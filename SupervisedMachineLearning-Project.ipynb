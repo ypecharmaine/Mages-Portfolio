{
 "cells": [
  {
   "cell_type": "markdown",
   "metadata": {},
   "source": [
    "# ML Final Project Report"
   ]
  },
  {
   "cell_type": "markdown",
   "metadata": {},
   "source": [
    "##  Data Pre-Processing & Basic Exploration"
   ]
  },
  {
   "cell_type": "code",
   "execution_count": 1,
   "metadata": {},
   "outputs": [],
   "source": [
    "# Import libraries\n",
    "\n",
    "%matplotlib inline\n",
    "\n",
    "import numpy as np\n",
    "import matplotlib.pyplot as plt\n",
    "import pandas as pd\n",
    "import seaborn as sns\n",
    "import xgboost as xgb\n",
    "\n",
    "from sklearn.preprocessing import OneHotEncoder, LabelEncoder\n",
    "from sklearn.preprocessing import StandardScaler\n",
    "from sklearn.model_selection import train_test_split, GridSearchCV, cross_val_score\n",
    "from sklearn.linear_model import LogisticRegression\n",
    "from sklearn.ensemble import RandomForestClassifier\n",
    "from sklearn.metrics import roc_curve, confusion_matrix, classification_report, roc_auc_score, roc_curve, accuracy_score\n",
    "from sklearn.neighbors import KNeighborsClassifier\n",
    "from mlxtend.feature_selection import SequentialFeatureSelector as SFS\n",
    "from mlxtend.plotting import plot_sequential_feature_selection as plot_sfs"
   ]
  },
  {
   "cell_type": "code",
   "execution_count": 4,
   "metadata": {},
   "outputs": [
    {
     "data": {
      "text/html": [
       "<div>\n",
       "<style scoped>\n",
       "    .dataframe tbody tr th:only-of-type {\n",
       "        vertical-align: middle;\n",
       "    }\n",
       "\n",
       "    .dataframe tbody tr th {\n",
       "        vertical-align: top;\n",
       "    }\n",
       "\n",
       "    .dataframe thead th {\n",
       "        text-align: right;\n",
       "    }\n",
       "</style>\n",
       "<table border=\"1\" class=\"dataframe\">\n",
       "  <thead>\n",
       "    <tr style=\"text-align: right;\">\n",
       "      <th></th>\n",
       "      <th>CustomerId</th>\n",
       "      <th>CredRate</th>\n",
       "      <th>Geography</th>\n",
       "      <th>Gender</th>\n",
       "      <th>Age</th>\n",
       "      <th>Tenure</th>\n",
       "      <th>Balance</th>\n",
       "      <th>Prod Number</th>\n",
       "      <th>HasCrCard</th>\n",
       "      <th>ActMem</th>\n",
       "      <th>EstimatedSalary</th>\n",
       "      <th>Exited</th>\n",
       "    </tr>\n",
       "  </thead>\n",
       "  <tbody>\n",
       "    <tr>\n",
       "      <th>0</th>\n",
       "      <td>15634602</td>\n",
       "      <td>619</td>\n",
       "      <td>France</td>\n",
       "      <td>Female</td>\n",
       "      <td>42.0</td>\n",
       "      <td>2</td>\n",
       "      <td>0.00</td>\n",
       "      <td>1</td>\n",
       "      <td>1</td>\n",
       "      <td>1</td>\n",
       "      <td>101348.88</td>\n",
       "      <td>1</td>\n",
       "    </tr>\n",
       "    <tr>\n",
       "      <th>1</th>\n",
       "      <td>15647311</td>\n",
       "      <td>608</td>\n",
       "      <td>Spain</td>\n",
       "      <td>Female</td>\n",
       "      <td>41.0</td>\n",
       "      <td>1</td>\n",
       "      <td>83807.86</td>\n",
       "      <td>1</td>\n",
       "      <td>0</td>\n",
       "      <td>1</td>\n",
       "      <td>112542.58</td>\n",
       "      <td>0</td>\n",
       "    </tr>\n",
       "    <tr>\n",
       "      <th>2</th>\n",
       "      <td>15619304</td>\n",
       "      <td>502</td>\n",
       "      <td>France</td>\n",
       "      <td>Female</td>\n",
       "      <td>42.0</td>\n",
       "      <td>8</td>\n",
       "      <td>159660.80</td>\n",
       "      <td>3</td>\n",
       "      <td>1</td>\n",
       "      <td>0</td>\n",
       "      <td>113931.57</td>\n",
       "      <td>1</td>\n",
       "    </tr>\n",
       "    <tr>\n",
       "      <th>3</th>\n",
       "      <td>15701354</td>\n",
       "      <td>699</td>\n",
       "      <td>France</td>\n",
       "      <td>Female</td>\n",
       "      <td>39.0</td>\n",
       "      <td>1</td>\n",
       "      <td>0.00</td>\n",
       "      <td>2</td>\n",
       "      <td>0</td>\n",
       "      <td>0</td>\n",
       "      <td>93826.63</td>\n",
       "      <td>0</td>\n",
       "    </tr>\n",
       "    <tr>\n",
       "      <th>4</th>\n",
       "      <td>15737888</td>\n",
       "      <td>850</td>\n",
       "      <td>Spain</td>\n",
       "      <td>Female</td>\n",
       "      <td>43.0</td>\n",
       "      <td>2</td>\n",
       "      <td>125510.82</td>\n",
       "      <td>1</td>\n",
       "      <td>1</td>\n",
       "      <td>1</td>\n",
       "      <td>79084.10</td>\n",
       "      <td>0</td>\n",
       "    </tr>\n",
       "    <tr>\n",
       "      <th>...</th>\n",
       "      <td>...</td>\n",
       "      <td>...</td>\n",
       "      <td>...</td>\n",
       "      <td>...</td>\n",
       "      <td>...</td>\n",
       "      <td>...</td>\n",
       "      <td>...</td>\n",
       "      <td>...</td>\n",
       "      <td>...</td>\n",
       "      <td>...</td>\n",
       "      <td>...</td>\n",
       "      <td>...</td>\n",
       "    </tr>\n",
       "    <tr>\n",
       "      <th>9995</th>\n",
       "      <td>15606229</td>\n",
       "      <td>771</td>\n",
       "      <td>France</td>\n",
       "      <td>Male</td>\n",
       "      <td>39.0</td>\n",
       "      <td>5</td>\n",
       "      <td>0.00</td>\n",
       "      <td>2</td>\n",
       "      <td>1</td>\n",
       "      <td>0</td>\n",
       "      <td>96270.64</td>\n",
       "      <td>0</td>\n",
       "    </tr>\n",
       "    <tr>\n",
       "      <th>9996</th>\n",
       "      <td>15569892</td>\n",
       "      <td>516</td>\n",
       "      <td>France</td>\n",
       "      <td>Male</td>\n",
       "      <td>35.0</td>\n",
       "      <td>10</td>\n",
       "      <td>57369.61</td>\n",
       "      <td>1</td>\n",
       "      <td>1</td>\n",
       "      <td>1</td>\n",
       "      <td>101699.77</td>\n",
       "      <td>0</td>\n",
       "    </tr>\n",
       "    <tr>\n",
       "      <th>9997</th>\n",
       "      <td>15584532</td>\n",
       "      <td>709</td>\n",
       "      <td>France</td>\n",
       "      <td>Female</td>\n",
       "      <td>36.0</td>\n",
       "      <td>7</td>\n",
       "      <td>0.00</td>\n",
       "      <td>1</td>\n",
       "      <td>0</td>\n",
       "      <td>1</td>\n",
       "      <td>42085.58</td>\n",
       "      <td>1</td>\n",
       "    </tr>\n",
       "    <tr>\n",
       "      <th>9998</th>\n",
       "      <td>15682355</td>\n",
       "      <td>772</td>\n",
       "      <td>Germany</td>\n",
       "      <td>Male</td>\n",
       "      <td>42.0</td>\n",
       "      <td>3</td>\n",
       "      <td>75075.31</td>\n",
       "      <td>2</td>\n",
       "      <td>1</td>\n",
       "      <td>0</td>\n",
       "      <td>92888.52</td>\n",
       "      <td>1</td>\n",
       "    </tr>\n",
       "    <tr>\n",
       "      <th>9999</th>\n",
       "      <td>15628319</td>\n",
       "      <td>792</td>\n",
       "      <td>France</td>\n",
       "      <td>Female</td>\n",
       "      <td>28.0</td>\n",
       "      <td>4</td>\n",
       "      <td>130142.79</td>\n",
       "      <td>1</td>\n",
       "      <td>1</td>\n",
       "      <td>0</td>\n",
       "      <td>38190.78</td>\n",
       "      <td>0</td>\n",
       "    </tr>\n",
       "  </tbody>\n",
       "</table>\n",
       "<p>10000 rows × 12 columns</p>\n",
       "</div>"
      ],
      "text/plain": [
       "      CustomerId  CredRate Geography  Gender   Age  Tenure    Balance  \\\n",
       "0       15634602       619    France  Female  42.0       2       0.00   \n",
       "1       15647311       608     Spain  Female  41.0       1   83807.86   \n",
       "2       15619304       502    France  Female  42.0       8  159660.80   \n",
       "3       15701354       699    France  Female  39.0       1       0.00   \n",
       "4       15737888       850     Spain  Female  43.0       2  125510.82   \n",
       "...          ...       ...       ...     ...   ...     ...        ...   \n",
       "9995    15606229       771    France    Male  39.0       5       0.00   \n",
       "9996    15569892       516    France    Male  35.0      10   57369.61   \n",
       "9997    15584532       709    France  Female  36.0       7       0.00   \n",
       "9998    15682355       772   Germany    Male  42.0       3   75075.31   \n",
       "9999    15628319       792    France  Female  28.0       4  130142.79   \n",
       "\n",
       "      Prod Number  HasCrCard  ActMem  EstimatedSalary  Exited  \n",
       "0               1          1       1        101348.88       1  \n",
       "1               1          0       1        112542.58       0  \n",
       "2               3          1       0        113931.57       1  \n",
       "3               2          0       0         93826.63       0  \n",
       "4               1          1       1         79084.10       0  \n",
       "...           ...        ...     ...              ...     ...  \n",
       "9995            2          1       0         96270.64       0  \n",
       "9996            1          1       1        101699.77       0  \n",
       "9997            1          0       1         42085.58       1  \n",
       "9998            2          1       0         92888.52       1  \n",
       "9999            1          1       0         38190.78       0  \n",
       "\n",
       "[10000 rows x 12 columns]"
      ]
     },
     "execution_count": 4,
     "metadata": {},
     "output_type": "execute_result"
    }
   ],
   "source": [
    "# Import dataset\n",
    "\n",
    "df = pd.read_csv('Churn_Modelling.csv')\n",
    "df "
   ]
  },
  {
   "cell_type": "markdown",
   "metadata": {},
   "source": [
    "### Data Cleaning"
   ]
  },
  {
   "cell_type": "code",
   "execution_count": 5,
   "metadata": {},
   "outputs": [
    {
     "data": {
      "text/html": [
       "<div>\n",
       "<style scoped>\n",
       "    .dataframe tbody tr th:only-of-type {\n",
       "        vertical-align: middle;\n",
       "    }\n",
       "\n",
       "    .dataframe tbody tr th {\n",
       "        vertical-align: top;\n",
       "    }\n",
       "\n",
       "    .dataframe thead th {\n",
       "        text-align: right;\n",
       "    }\n",
       "</style>\n",
       "<table border=\"1\" class=\"dataframe\">\n",
       "  <thead>\n",
       "    <tr style=\"text-align: right;\">\n",
       "      <th></th>\n",
       "      <th>CustomerId</th>\n",
       "      <th>CredRate</th>\n",
       "      <th>Geography</th>\n",
       "      <th>Gender</th>\n",
       "      <th>Age</th>\n",
       "      <th>Tenure</th>\n",
       "      <th>Balance</th>\n",
       "      <th>ProdNumber</th>\n",
       "      <th>HasCrCard</th>\n",
       "      <th>ActMem</th>\n",
       "      <th>EstimatedSalary</th>\n",
       "      <th>Exited</th>\n",
       "    </tr>\n",
       "  </thead>\n",
       "  <tbody>\n",
       "    <tr>\n",
       "      <th>0</th>\n",
       "      <td>15634602</td>\n",
       "      <td>619</td>\n",
       "      <td>France</td>\n",
       "      <td>Female</td>\n",
       "      <td>42.0</td>\n",
       "      <td>2</td>\n",
       "      <td>0.00</td>\n",
       "      <td>1</td>\n",
       "      <td>1</td>\n",
       "      <td>1</td>\n",
       "      <td>101348.88</td>\n",
       "      <td>1</td>\n",
       "    </tr>\n",
       "    <tr>\n",
       "      <th>1</th>\n",
       "      <td>15647311</td>\n",
       "      <td>608</td>\n",
       "      <td>Spain</td>\n",
       "      <td>Female</td>\n",
       "      <td>41.0</td>\n",
       "      <td>1</td>\n",
       "      <td>83807.86</td>\n",
       "      <td>1</td>\n",
       "      <td>0</td>\n",
       "      <td>1</td>\n",
       "      <td>112542.58</td>\n",
       "      <td>0</td>\n",
       "    </tr>\n",
       "  </tbody>\n",
       "</table>\n",
       "</div>"
      ],
      "text/plain": [
       "   CustomerId  CredRate Geography  Gender   Age  Tenure   Balance  ProdNumber  \\\n",
       "0    15634602       619    France  Female  42.0       2      0.00           1   \n",
       "1    15647311       608     Spain  Female  41.0       1  83807.86           1   \n",
       "\n",
       "   HasCrCard  ActMem  EstimatedSalary  Exited  \n",
       "0          1       1        101348.88       1  \n",
       "1          0       1        112542.58       0  "
      ]
     },
     "execution_count": 5,
     "metadata": {},
     "output_type": "execute_result"
    }
   ],
   "source": [
    "df.rename(columns={\"Prod Number\": \"ProdNumber\"}, inplace = True)\n",
    "df.head(2)"
   ]
  },
  {
   "cell_type": "markdown",
   "metadata": {},
   "source": [
    "<b> Null Values </b>"
   ]
  },
  {
   "cell_type": "code",
   "execution_count": 6,
   "metadata": {},
   "outputs": [
    {
     "data": {
      "text/html": [
       "<div>\n",
       "<style scoped>\n",
       "    .dataframe tbody tr th:only-of-type {\n",
       "        vertical-align: middle;\n",
       "    }\n",
       "\n",
       "    .dataframe tbody tr th {\n",
       "        vertical-align: top;\n",
       "    }\n",
       "\n",
       "    .dataframe thead th {\n",
       "        text-align: right;\n",
       "    }\n",
       "</style>\n",
       "<table border=\"1\" class=\"dataframe\">\n",
       "  <thead>\n",
       "    <tr style=\"text-align: right;\">\n",
       "      <th></th>\n",
       "      <th>CustomerId</th>\n",
       "      <th>CredRate</th>\n",
       "      <th>Geography</th>\n",
       "      <th>Gender</th>\n",
       "      <th>Age</th>\n",
       "      <th>Tenure</th>\n",
       "      <th>Balance</th>\n",
       "      <th>ProdNumber</th>\n",
       "      <th>HasCrCard</th>\n",
       "      <th>ActMem</th>\n",
       "      <th>EstimatedSalary</th>\n",
       "      <th>Exited</th>\n",
       "    </tr>\n",
       "  </thead>\n",
       "  <tbody>\n",
       "    <tr>\n",
       "      <th>6</th>\n",
       "      <td>15592531</td>\n",
       "      <td>822</td>\n",
       "      <td>France</td>\n",
       "      <td>NaN</td>\n",
       "      <td>50.0</td>\n",
       "      <td>7</td>\n",
       "      <td>0.00</td>\n",
       "      <td>2</td>\n",
       "      <td>1</td>\n",
       "      <td>1</td>\n",
       "      <td>10062.80</td>\n",
       "      <td>0</td>\n",
       "    </tr>\n",
       "    <tr>\n",
       "      <th>10</th>\n",
       "      <td>15767821</td>\n",
       "      <td>528</td>\n",
       "      <td>France</td>\n",
       "      <td>Male</td>\n",
       "      <td>NaN</td>\n",
       "      <td>6</td>\n",
       "      <td>102016.72</td>\n",
       "      <td>2</td>\n",
       "      <td>0</td>\n",
       "      <td>0</td>\n",
       "      <td>80181.12</td>\n",
       "      <td>0</td>\n",
       "    </tr>\n",
       "    <tr>\n",
       "      <th>11</th>\n",
       "      <td>15737173</td>\n",
       "      <td>497</td>\n",
       "      <td>Spain</td>\n",
       "      <td>Male</td>\n",
       "      <td>NaN</td>\n",
       "      <td>3</td>\n",
       "      <td>0.00</td>\n",
       "      <td>2</td>\n",
       "      <td>1</td>\n",
       "      <td>0</td>\n",
       "      <td>76390.01</td>\n",
       "      <td>0</td>\n",
       "    </tr>\n",
       "    <tr>\n",
       "      <th>12</th>\n",
       "      <td>15632264</td>\n",
       "      <td>476</td>\n",
       "      <td>France</td>\n",
       "      <td>Female</td>\n",
       "      <td>NaN</td>\n",
       "      <td>10</td>\n",
       "      <td>0.00</td>\n",
       "      <td>2</td>\n",
       "      <td>1</td>\n",
       "      <td>0</td>\n",
       "      <td>26260.98</td>\n",
       "      <td>0</td>\n",
       "    </tr>\n",
       "    <tr>\n",
       "      <th>37</th>\n",
       "      <td>15729599</td>\n",
       "      <td>804</td>\n",
       "      <td>Spain</td>\n",
       "      <td>Male</td>\n",
       "      <td>NaN</td>\n",
       "      <td>7</td>\n",
       "      <td>76548.60</td>\n",
       "      <td>1</td>\n",
       "      <td>0</td>\n",
       "      <td>1</td>\n",
       "      <td>98453.45</td>\n",
       "      <td>0</td>\n",
       "    </tr>\n",
       "    <tr>\n",
       "      <th>38</th>\n",
       "      <td>15717426</td>\n",
       "      <td>850</td>\n",
       "      <td>France</td>\n",
       "      <td>Male</td>\n",
       "      <td>NaN</td>\n",
       "      <td>7</td>\n",
       "      <td>0.00</td>\n",
       "      <td>1</td>\n",
       "      <td>1</td>\n",
       "      <td>1</td>\n",
       "      <td>40812.90</td>\n",
       "      <td>0</td>\n",
       "    </tr>\n",
       "    <tr>\n",
       "      <th>39</th>\n",
       "      <td>15585768</td>\n",
       "      <td>582</td>\n",
       "      <td>Germany</td>\n",
       "      <td>Male</td>\n",
       "      <td>NaN</td>\n",
       "      <td>6</td>\n",
       "      <td>70349.48</td>\n",
       "      <td>2</td>\n",
       "      <td>0</td>\n",
       "      <td>1</td>\n",
       "      <td>178074.04</td>\n",
       "      <td>0</td>\n",
       "    </tr>\n",
       "    <tr>\n",
       "      <th>74</th>\n",
       "      <td>15770811</td>\n",
       "      <td>519</td>\n",
       "      <td>France</td>\n",
       "      <td>Male</td>\n",
       "      <td>36.0</td>\n",
       "      <td>9</td>\n",
       "      <td>0.00</td>\n",
       "      <td>2</td>\n",
       "      <td>0</td>\n",
       "      <td>1</td>\n",
       "      <td>NaN</td>\n",
       "      <td>0</td>\n",
       "    </tr>\n",
       "    <tr>\n",
       "      <th>77</th>\n",
       "      <td>15662085</td>\n",
       "      <td>678</td>\n",
       "      <td>France</td>\n",
       "      <td>Female</td>\n",
       "      <td>32.0</td>\n",
       "      <td>9</td>\n",
       "      <td>0.00</td>\n",
       "      <td>1</td>\n",
       "      <td>1</td>\n",
       "      <td>1</td>\n",
       "      <td>NaN</td>\n",
       "      <td>0</td>\n",
       "    </tr>\n",
       "    <tr>\n",
       "      <th>87</th>\n",
       "      <td>15625759</td>\n",
       "      <td>729</td>\n",
       "      <td>France</td>\n",
       "      <td>Male</td>\n",
       "      <td>30.0</td>\n",
       "      <td>9</td>\n",
       "      <td>0.00</td>\n",
       "      <td>2</td>\n",
       "      <td>1</td>\n",
       "      <td>0</td>\n",
       "      <td>NaN</td>\n",
       "      <td>0</td>\n",
       "    </tr>\n",
       "    <tr>\n",
       "      <th>92</th>\n",
       "      <td>15809248</td>\n",
       "      <td>524</td>\n",
       "      <td>France</td>\n",
       "      <td>Female</td>\n",
       "      <td>36.0</td>\n",
       "      <td>10</td>\n",
       "      <td>0.00</td>\n",
       "      <td>2</td>\n",
       "      <td>1</td>\n",
       "      <td>0</td>\n",
       "      <td>NaN</td>\n",
       "      <td>0</td>\n",
       "    </tr>\n",
       "    <tr>\n",
       "      <th>7809</th>\n",
       "      <td>15780989</td>\n",
       "      <td>579</td>\n",
       "      <td>Spain</td>\n",
       "      <td>NaN</td>\n",
       "      <td>43.0</td>\n",
       "      <td>2</td>\n",
       "      <td>145843.82</td>\n",
       "      <td>1</td>\n",
       "      <td>1</td>\n",
       "      <td>1</td>\n",
       "      <td>198402.37</td>\n",
       "      <td>1</td>\n",
       "    </tr>\n",
       "    <tr>\n",
       "      <th>7818</th>\n",
       "      <td>15637977</td>\n",
       "      <td>542</td>\n",
       "      <td>Germany</td>\n",
       "      <td>NaN</td>\n",
       "      <td>25.0</td>\n",
       "      <td>8</td>\n",
       "      <td>139330.10</td>\n",
       "      <td>1</td>\n",
       "      <td>0</td>\n",
       "      <td>0</td>\n",
       "      <td>54372.37</td>\n",
       "      <td>0</td>\n",
       "    </tr>\n",
       "    <tr>\n",
       "      <th>9282</th>\n",
       "      <td>15799435</td>\n",
       "      <td>619</td>\n",
       "      <td>Spain</td>\n",
       "      <td>NaN</td>\n",
       "      <td>34.0</td>\n",
       "      <td>1</td>\n",
       "      <td>0.00</td>\n",
       "      <td>1</td>\n",
       "      <td>1</td>\n",
       "      <td>0</td>\n",
       "      <td>139919.38</td>\n",
       "      <td>0</td>\n",
       "    </tr>\n",
       "  </tbody>\n",
       "</table>\n",
       "</div>"
      ],
      "text/plain": [
       "      CustomerId  CredRate Geography  Gender   Age  Tenure    Balance  \\\n",
       "6       15592531       822    France     NaN  50.0       7       0.00   \n",
       "10      15767821       528    France    Male   NaN       6  102016.72   \n",
       "11      15737173       497     Spain    Male   NaN       3       0.00   \n",
       "12      15632264       476    France  Female   NaN      10       0.00   \n",
       "37      15729599       804     Spain    Male   NaN       7   76548.60   \n",
       "38      15717426       850    France    Male   NaN       7       0.00   \n",
       "39      15585768       582   Germany    Male   NaN       6   70349.48   \n",
       "74      15770811       519    France    Male  36.0       9       0.00   \n",
       "77      15662085       678    France  Female  32.0       9       0.00   \n",
       "87      15625759       729    France    Male  30.0       9       0.00   \n",
       "92      15809248       524    France  Female  36.0      10       0.00   \n",
       "7809    15780989       579     Spain     NaN  43.0       2  145843.82   \n",
       "7818    15637977       542   Germany     NaN  25.0       8  139330.10   \n",
       "9282    15799435       619     Spain     NaN  34.0       1       0.00   \n",
       "\n",
       "      ProdNumber  HasCrCard  ActMem  EstimatedSalary  Exited  \n",
       "6              2          1       1         10062.80       0  \n",
       "10             2          0       0         80181.12       0  \n",
       "11             2          1       0         76390.01       0  \n",
       "12             2          1       0         26260.98       0  \n",
       "37             1          0       1         98453.45       0  \n",
       "38             1          1       1         40812.90       0  \n",
       "39             2          0       1        178074.04       0  \n",
       "74             2          0       1              NaN       0  \n",
       "77             1          1       1              NaN       0  \n",
       "87             2          1       0              NaN       0  \n",
       "92             2          1       0              NaN       0  \n",
       "7809           1          1       1        198402.37       1  \n",
       "7818           1          0       0         54372.37       0  \n",
       "9282           1          1       0        139919.38       0  "
      ]
     },
     "execution_count": 6,
     "metadata": {},
     "output_type": "execute_result"
    }
   ],
   "source": [
    "df_null = df[df.isna().any(axis=1)]\n",
    "df_null"
   ]
  },
  {
   "cell_type": "code",
   "execution_count": 7,
   "metadata": {},
   "outputs": [
    {
     "name": "stderr",
     "output_type": "stream",
     "text": [
      "D:\\anaconda3\\lib\\site-packages\\numpy\\lib\\histograms.py:839: RuntimeWarning: invalid value encountered in greater_equal\n",
      "  keep = (tmp_a >= first_edge)\n",
      "D:\\anaconda3\\lib\\site-packages\\numpy\\lib\\histograms.py:840: RuntimeWarning: invalid value encountered in less_equal\n",
      "  keep &= (tmp_a <= last_edge)\n"
     ]
    },
    {
     "data": {
      "image/png": "[encoded data removed]",
      "text/plain": [
       "<Figure size 720x504 with 1 Axes>"
      ]
     },
     "metadata": {},
     "output_type": "display_data"
    }
   ],
   "source": [
    "# Age\n",
    "\n",
    "plt.style.use(\"ggplot\",)\n",
    "plt.figure(figsize = (10,7))\n",
    "plt.hist(x = df['Age']);"
   ]
  },
  {
   "cell_type": "code",
   "execution_count": 8,
   "metadata": {},
   "outputs": [
    {
     "data": {
      "text/plain": [
       "Male      5453\n",
       "Female    4543\n",
       "Name: Gender, dtype: int64"
      ]
     },
     "execution_count": 8,
     "metadata": {},
     "output_type": "execute_result"
    }
   ],
   "source": [
    "# Gender \n",
    "\n",
    "df.Gender.value_counts()"
   ]
  },
  {
   "cell_type": "code",
   "execution_count": 9,
   "metadata": {},
   "outputs": [
    {
     "data": {
      "text/plain": [
       "(950, 1040)"
      ]
     },
     "execution_count": 9,
     "metadata": {},
     "output_type": "execute_result"
    },
    {
     "data": {
      "image/png": "[encoded data removed]",
      "text/plain": [
       "<Figure size 720x504 with 1 Axes>"
      ]
     },
     "metadata": {},
     "output_type": "display_data"
    }
   ],
   "source": [
    "# EstimatedSalary\n",
    "\n",
    "plt.figure(figsize = (10,7))\n",
    "plt.hist(x = df['EstimatedSalary'])\n",
    "plt.ylim(950, 1040)"
   ]
  },
  {
   "cell_type": "code",
   "execution_count": 10,
   "metadata": {},
   "outputs": [],
   "source": [
    "# Replacing null values in Age with the median age (as the ages are a little skewed)\n",
    "df['Age'] = df['Age'].fillna(df['Age'].median())\n",
    "\n",
    "# Replacing null values in Gender with the 'Male' gender as there is a higher frequency.\n",
    "df['Gender'] = df['Gender'].fillna('Male')\n",
    "\n",
    "# Replacing null values in EstimatedSalary with the mean. \n",
    "df['EstimatedSalary'] = df['EstimatedSalary'].fillna(df['EstimatedSalary'].mean())"
   ]
  },
  {
   "cell_type": "code",
   "execution_count": 11,
   "metadata": {},
   "outputs": [
    {
     "data": {
      "text/plain": [
       "CustomerId         0\n",
       "CredRate           0\n",
       "Geography          0\n",
       "Gender             0\n",
       "Age                0\n",
       "Tenure             0\n",
       "Balance            0\n",
       "ProdNumber         0\n",
       "HasCrCard          0\n",
       "ActMem             0\n",
       "EstimatedSalary    0\n",
       "Exited             0\n",
       "dtype: int64"
      ]
     },
     "execution_count": 11,
     "metadata": {},
     "output_type": "execute_result"
    }
   ],
   "source": [
    "df_null = df[df.isna().any(axis=1)]\n",
    "df_null.count()"
   ]
  },
  {
   "cell_type": "markdown",
   "metadata": {},
   "source": [
    "<b> Duplicated Values </b>"
   ]
  },
  {
   "cell_type": "code",
   "execution_count": 12,
   "metadata": {},
   "outputs": [
    {
     "data": {
      "text/plain": [
       "CustomerId         0\n",
       "CredRate           0\n",
       "Geography          0\n",
       "Gender             0\n",
       "Age                0\n",
       "Tenure             0\n",
       "Balance            0\n",
       "ProdNumber         0\n",
       "HasCrCard          0\n",
       "ActMem             0\n",
       "EstimatedSalary    0\n",
       "Exited             0\n",
       "dtype: int64"
      ]
     },
     "execution_count": 12,
     "metadata": {},
     "output_type": "execute_result"
    }
   ],
   "source": [
    "df_dup = df[df.duplicated()]\n",
    "df_dup.count()\n",
    "\n",
    "# There are no duplicated values. "
   ]
  },
  {
   "cell_type": "markdown",
   "metadata": {},
   "source": [
    "<b> Outliers </b>"
   ]
  },
  {
   "cell_type": "markdown",
   "metadata": {},
   "source": [
    "Present in the CredRate, Age, and ProdNumber features. "
   ]
  },
  {
   "cell_type": "code",
   "execution_count": 13,
   "metadata": {},
   "outputs": [
    {
     "data": {
      "image/png": "[encoded data removed]",
      "text/plain": [
       "<Figure size 720x504 with 1 Axes>"
      ]
     },
     "metadata": {},
     "output_type": "display_data"
    }
   ],
   "source": [
    "plt.figure(figsize = (10,7))\n",
    "\n",
    "sns.boxplot(x = df['CredRate'])\n",
    "\n",
    "plt.title('Box Plot of CredRate')\n",
    "plt.xlabel('CredRate')\n",
    "plt.show()"
   ]
  },
  {
   "cell_type": "code",
   "execution_count": 14,
   "metadata": {},
   "outputs": [
    {
     "data": {
      "image/png": "[encoded data removed]",
      "text/plain": [
       "<Figure size 720x504 with 1 Axes>"
      ]
     },
     "metadata": {},
     "output_type": "display_data"
    }
   ],
   "source": [
    "plt.figure(figsize = (10,7))\n",
    "\n",
    "sns.boxplot(x = df['Age'])\n",
    "\n",
    "plt.title('Box Plot of Age')\n",
    "plt.xlabel('Age')\n",
    "plt.show()"
   ]
  },
  {
   "cell_type": "code",
   "execution_count": 15,
   "metadata": {},
   "outputs": [
    {
     "data": {
      "image/png": "[encoded data removed]",
      "text/plain": [
       "<Figure size 720x504 with 1 Axes>"
      ]
     },
     "metadata": {},
     "output_type": "display_data"
    }
   ],
   "source": [
    "plt.figure(figsize = (10,7))\n",
    "\n",
    "sns.boxplot(x = df['ProdNumber'])\n",
    "\n",
    "plt.title('Box Plot of ProdNumber')\n",
    "plt.xlabel('ProdNumber')\n",
    "plt.show()"
   ]
  },
  {
   "cell_type": "code",
   "execution_count": 16,
   "metadata": {},
   "outputs": [],
   "source": [
    "# plt.figure(figsize = (10,7))\n",
    "\n",
    "# sns.boxplot(x = df['EstimatedSalary'])\n",
    "\n",
    "# plt.title('Box Plot of EstimatedSalary')\n",
    "# plt.xlabel('EstimatedSalary')\n",
    "# plt.show()"
   ]
  },
  {
   "cell_type": "code",
   "execution_count": 17,
   "metadata": {},
   "outputs": [],
   "source": [
    "# plt.figure(figsize = (10,7))\n",
    "\n",
    "# sns.boxplot(x = df['Balance'])\n",
    "\n",
    "# plt.title('Box Plot of Balance')\n",
    "# plt.xlabel('Balance')\n",
    "# plt.show()"
   ]
  },
  {
   "cell_type": "code",
   "execution_count": 18,
   "metadata": {},
   "outputs": [],
   "source": [
    "# plt.figure(figsize = (10,7))\n",
    "\n",
    "# sns.boxplot(x = df['Tenure'])\n",
    "\n",
    "# plt.title('Box Plot of Tenure')\n",
    "# plt.xlabel('Tenure')\n",
    "# plt.show()"
   ]
  },
  {
   "cell_type": "markdown",
   "metadata": {},
   "source": [
    "### Feature Engineering and Basic Data Visualisation"
   ]
  },
  {
   "cell_type": "code",
   "execution_count": 19,
   "metadata": {},
   "outputs": [
    {
     "data": {
      "image/png": "[encoded data removed]",
      "text/plain": [
       "<Figure size 864x576 with 2 Axes>"
      ]
     },
     "metadata": {},
     "output_type": "display_data"
    }
   ],
   "source": [
    "# Summoning a heatmap to see the basic correlation of the features, and to check for multicollinearity at the same time. \n",
    "\n",
    "df_corr = df.corr()\n",
    "\n",
    "plt.subplots(figsize = (12,8))\n",
    "sns.heatmap(df_corr, annot = True)\n",
    "plt.xticks(rotation=45);"
   ]
  },
  {
   "cell_type": "code",
   "execution_count": 20,
   "metadata": {},
   "outputs": [
    {
     "data": {
      "image/png": "[encoded data removed]",
      "text/plain": [
       "<Figure size 864x864 with 9 Axes>"
      ]
     },
     "metadata": {},
     "output_type": "display_data"
    }
   ],
   "source": [
    "# Summoned histograms of the different features to get a rough idea about the distribution of the different features.\n",
    "\n",
    "fig, axs = plt.subplots(3, 3, figsize = (12,12))\n",
    "axs[0, 0].hist(df.CredRate, align = \"left\", rwidth = 1, density = True)\n",
    "axs[0, 0].title.set_text('CredRate')\n",
    "axs[0, 1].hist(df.Age, align = \"left\", rwidth = 1, density = True)\n",
    "axs[0, 1].title.set_text('Age')\n",
    "axs[0, 2].hist(df.Tenure, align = \"left\", rwidth = 1, density = True)\n",
    "axs[0, 2].title.set_text('Tenure')\n",
    "\n",
    "axs[1, 0].hist(df.Balance, align = \"left\", rwidth = 1, density = True)\n",
    "axs[1, 0].title.set_text('Balance')\n",
    "axs[1, 1].hist(df.ProdNumber, align = \"left\", rwidth = 1, density = True)\n",
    "axs[1, 1].title.set_text('ProdNumber')\n",
    "axs[1, 2].hist(df.HasCrCard, align = \"left\", rwidth = 1, density = True)\n",
    "axs[1, 2].title.set_text('HasCrCard')\n",
    "\n",
    "axs[2, 0].hist(df.ActMem, align = \"left\", rwidth = 1, density = True)\n",
    "axs[2, 0].title.set_text('Active Members')\n",
    "axs[2, 1].hist(df.EstimatedSalary, align = \"left\", rwidth = 1, density = True)\n",
    "axs[2, 1].title.set_text('EstimatedSalary')\n",
    "axs[2, 2].hist(df.Exited, align = \"left\", rwidth = 1, density = True)\n",
    "axs[2, 2].title.set_text('Exited')\n",
    "\n",
    "plt.show()"
   ]
  },
  {
   "cell_type": "markdown",
   "metadata": {},
   "source": [
    "### Feature Engineering"
   ]
  },
  {
   "cell_type": "markdown",
   "metadata": {},
   "source": [
    "<b> One-Hot Encoding </b>"
   ]
  },
  {
   "cell_type": "markdown",
   "metadata": {},
   "source": [
    "For Geography and Gender features, we need to encode them into categorical data, and as there's no better country or gender, we'll go with One-Hot Encoding."
   ]
  },
  {
   "cell_type": "code",
   "execution_count": 21,
   "metadata": {},
   "outputs": [
    {
     "data": {
      "text/plain": [
       "CustomerId           int64\n",
       "CredRate             int64\n",
       "Geography           object\n",
       "Gender              object\n",
       "Age                float64\n",
       "Tenure               int64\n",
       "Balance            float64\n",
       "ProdNumber           int64\n",
       "HasCrCard            int64\n",
       "ActMem               int64\n",
       "EstimatedSalary    float64\n",
       "Exited               int64\n",
       "dtype: object"
      ]
     },
     "execution_count": 21,
     "metadata": {},
     "output_type": "execute_result"
    }
   ],
   "source": [
    "df.dtypes"
   ]
  },
  {
   "cell_type": "code",
   "execution_count": 22,
   "metadata": {},
   "outputs": [
    {
     "data": {
      "text/plain": [
       "array(['France', 'Spain', 'Germany'], dtype=object)"
      ]
     },
     "execution_count": 22,
     "metadata": {},
     "output_type": "execute_result"
    }
   ],
   "source": [
    "df['Geography'].unique()"
   ]
  },
  {
   "cell_type": "code",
   "execution_count": 23,
   "metadata": {},
   "outputs": [
    {
     "data": {
      "text/plain": [
       "array(['Female', 'Male'], dtype=object)"
      ]
     },
     "execution_count": 23,
     "metadata": {},
     "output_type": "execute_result"
    }
   ],
   "source": [
    "df['Gender'].unique()"
   ]
  },
  {
   "cell_type": "code",
   "execution_count": 24,
   "metadata": {},
   "outputs": [
    {
     "data": {
      "text/plain": [
       "array(['France', 'Spain', 'France', ..., 'France', 'Germany', 'France'],\n",
       "      dtype=object)"
      ]
     },
     "execution_count": 24,
     "metadata": {},
     "output_type": "execute_result"
    }
   ],
   "source": [
    "df.Geography.values"
   ]
  },
  {
   "cell_type": "code",
   "execution_count": 25,
   "metadata": {},
   "outputs": [
    {
     "data": {
      "text/html": [
       "<div>\n",
       "<style scoped>\n",
       "    .dataframe tbody tr th:only-of-type {\n",
       "        vertical-align: middle;\n",
       "    }\n",
       "\n",
       "    .dataframe tbody tr th {\n",
       "        vertical-align: top;\n",
       "    }\n",
       "\n",
       "    .dataframe thead th {\n",
       "        text-align: right;\n",
       "    }\n",
       "</style>\n",
       "<table border=\"1\" class=\"dataframe\">\n",
       "  <thead>\n",
       "    <tr style=\"text-align: right;\">\n",
       "      <th></th>\n",
       "      <th>France</th>\n",
       "      <th>Spain</th>\n",
       "      <th>Germany</th>\n",
       "    </tr>\n",
       "  </thead>\n",
       "  <tbody>\n",
       "    <tr>\n",
       "      <th>0</th>\n",
       "      <td>1.0</td>\n",
       "      <td>0.0</td>\n",
       "      <td>0.0</td>\n",
       "    </tr>\n",
       "    <tr>\n",
       "      <th>1</th>\n",
       "      <td>0.0</td>\n",
       "      <td>0.0</td>\n",
       "      <td>1.0</td>\n",
       "    </tr>\n",
       "    <tr>\n",
       "      <th>2</th>\n",
       "      <td>1.0</td>\n",
       "      <td>0.0</td>\n",
       "      <td>0.0</td>\n",
       "    </tr>\n",
       "    <tr>\n",
       "      <th>3</th>\n",
       "      <td>1.0</td>\n",
       "      <td>0.0</td>\n",
       "      <td>0.0</td>\n",
       "    </tr>\n",
       "    <tr>\n",
       "      <th>4</th>\n",
       "      <td>0.0</td>\n",
       "      <td>0.0</td>\n",
       "      <td>1.0</td>\n",
       "    </tr>\n",
       "    <tr>\n",
       "      <th>...</th>\n",
       "      <td>...</td>\n",
       "      <td>...</td>\n",
       "      <td>...</td>\n",
       "    </tr>\n",
       "    <tr>\n",
       "      <th>9995</th>\n",
       "      <td>1.0</td>\n",
       "      <td>0.0</td>\n",
       "      <td>0.0</td>\n",
       "    </tr>\n",
       "    <tr>\n",
       "      <th>9996</th>\n",
       "      <td>1.0</td>\n",
       "      <td>0.0</td>\n",
       "      <td>0.0</td>\n",
       "    </tr>\n",
       "    <tr>\n",
       "      <th>9997</th>\n",
       "      <td>1.0</td>\n",
       "      <td>0.0</td>\n",
       "      <td>0.0</td>\n",
       "    </tr>\n",
       "    <tr>\n",
       "      <th>9998</th>\n",
       "      <td>0.0</td>\n",
       "      <td>1.0</td>\n",
       "      <td>0.0</td>\n",
       "    </tr>\n",
       "    <tr>\n",
       "      <th>9999</th>\n",
       "      <td>1.0</td>\n",
       "      <td>0.0</td>\n",
       "      <td>0.0</td>\n",
       "    </tr>\n",
       "  </tbody>\n",
       "</table>\n",
       "<p>10000 rows × 3 columns</p>\n",
       "</div>"
      ],
      "text/plain": [
       "      France  Spain  Germany\n",
       "0        1.0    0.0      0.0\n",
       "1        0.0    0.0      1.0\n",
       "2        1.0    0.0      0.0\n",
       "3        1.0    0.0      0.0\n",
       "4        0.0    0.0      1.0\n",
       "...      ...    ...      ...\n",
       "9995     1.0    0.0      0.0\n",
       "9996     1.0    0.0      0.0\n",
       "9997     1.0    0.0      0.0\n",
       "9998     0.0    1.0      0.0\n",
       "9999     1.0    0.0      0.0\n",
       "\n",
       "[10000 rows x 3 columns]"
      ]
     },
     "execution_count": 25,
     "metadata": {},
     "output_type": "execute_result"
    }
   ],
   "source": [
    "onehotencoder = OneHotEncoder()\n",
    "\n",
    "geo_val = df.Geography.values.reshape(-1,1)\n",
    "geo_encoded = onehotencoder.fit_transform(geo_val).toarray()\n",
    "\n",
    "dfgeo_encoded = pd.DataFrame(geo_encoded, columns = ['France', 'Spain', 'Germany'])\n",
    "dfgeo_encoded"
   ]
  },
  {
   "cell_type": "code",
   "execution_count": 26,
   "metadata": {},
   "outputs": [
    {
     "data": {
      "text/html": [
       "<div>\n",
       "<style scoped>\n",
       "    .dataframe tbody tr th:only-of-type {\n",
       "        vertical-align: middle;\n",
       "    }\n",
       "\n",
       "    .dataframe tbody tr th {\n",
       "        vertical-align: top;\n",
       "    }\n",
       "\n",
       "    .dataframe thead th {\n",
       "        text-align: right;\n",
       "    }\n",
       "</style>\n",
       "<table border=\"1\" class=\"dataframe\">\n",
       "  <thead>\n",
       "    <tr style=\"text-align: right;\">\n",
       "      <th></th>\n",
       "      <th>Female</th>\n",
       "      <th>Male</th>\n",
       "    </tr>\n",
       "  </thead>\n",
       "  <tbody>\n",
       "    <tr>\n",
       "      <th>0</th>\n",
       "      <td>1.0</td>\n",
       "      <td>0.0</td>\n",
       "    </tr>\n",
       "    <tr>\n",
       "      <th>1</th>\n",
       "      <td>1.0</td>\n",
       "      <td>0.0</td>\n",
       "    </tr>\n",
       "    <tr>\n",
       "      <th>2</th>\n",
       "      <td>1.0</td>\n",
       "      <td>0.0</td>\n",
       "    </tr>\n",
       "    <tr>\n",
       "      <th>3</th>\n",
       "      <td>1.0</td>\n",
       "      <td>0.0</td>\n",
       "    </tr>\n",
       "    <tr>\n",
       "      <th>4</th>\n",
       "      <td>1.0</td>\n",
       "      <td>0.0</td>\n",
       "    </tr>\n",
       "    <tr>\n",
       "      <th>...</th>\n",
       "      <td>...</td>\n",
       "      <td>...</td>\n",
       "    </tr>\n",
       "    <tr>\n",
       "      <th>9995</th>\n",
       "      <td>0.0</td>\n",
       "      <td>1.0</td>\n",
       "    </tr>\n",
       "    <tr>\n",
       "      <th>9996</th>\n",
       "      <td>0.0</td>\n",
       "      <td>1.0</td>\n",
       "    </tr>\n",
       "    <tr>\n",
       "      <th>9997</th>\n",
       "      <td>1.0</td>\n",
       "      <td>0.0</td>\n",
       "    </tr>\n",
       "    <tr>\n",
       "      <th>9998</th>\n",
       "      <td>0.0</td>\n",
       "      <td>1.0</td>\n",
       "    </tr>\n",
       "    <tr>\n",
       "      <th>9999</th>\n",
       "      <td>1.0</td>\n",
       "      <td>0.0</td>\n",
       "    </tr>\n",
       "  </tbody>\n",
       "</table>\n",
       "<p>10000 rows × 2 columns</p>\n",
       "</div>"
      ],
      "text/plain": [
       "      Female  Male\n",
       "0        1.0   0.0\n",
       "1        1.0   0.0\n",
       "2        1.0   0.0\n",
       "3        1.0   0.0\n",
       "4        1.0   0.0\n",
       "...      ...   ...\n",
       "9995     0.0   1.0\n",
       "9996     0.0   1.0\n",
       "9997     1.0   0.0\n",
       "9998     0.0   1.0\n",
       "9999     1.0   0.0\n",
       "\n",
       "[10000 rows x 2 columns]"
      ]
     },
     "execution_count": 26,
     "metadata": {},
     "output_type": "execute_result"
    }
   ],
   "source": [
    "gen_val = df.Gender.values.reshape(-1,1)\n",
    "\n",
    "gen_encoded = onehotencoder.fit_transform(gen_val).toarray()\n",
    "\n",
    "dfgen_encoded = pd.DataFrame(gen_encoded, columns = ['Female', 'Male'])\n",
    "\n",
    "dfgen_encoded"
   ]
  },
  {
   "cell_type": "code",
   "execution_count": 27,
   "metadata": {},
   "outputs": [
    {
     "data": {
      "text/html": [
       "<div>\n",
       "<style scoped>\n",
       "    .dataframe tbody tr th:only-of-type {\n",
       "        vertical-align: middle;\n",
       "    }\n",
       "\n",
       "    .dataframe tbody tr th {\n",
       "        vertical-align: top;\n",
       "    }\n",
       "\n",
       "    .dataframe thead th {\n",
       "        text-align: right;\n",
       "    }\n",
       "</style>\n",
       "<table border=\"1\" class=\"dataframe\">\n",
       "  <thead>\n",
       "    <tr style=\"text-align: right;\">\n",
       "      <th></th>\n",
       "      <th>CustomerId</th>\n",
       "      <th>CredRate</th>\n",
       "      <th>Geography</th>\n",
       "      <th>Gender</th>\n",
       "      <th>Age</th>\n",
       "      <th>Tenure</th>\n",
       "      <th>Balance</th>\n",
       "      <th>ProdNumber</th>\n",
       "      <th>HasCrCard</th>\n",
       "      <th>ActMem</th>\n",
       "      <th>EstimatedSalary</th>\n",
       "      <th>Exited</th>\n",
       "      <th>France</th>\n",
       "      <th>Spain</th>\n",
       "      <th>Germany</th>\n",
       "      <th>Female</th>\n",
       "      <th>Male</th>\n",
       "    </tr>\n",
       "  </thead>\n",
       "  <tbody>\n",
       "    <tr>\n",
       "      <th>0</th>\n",
       "      <td>15634602</td>\n",
       "      <td>619</td>\n",
       "      <td>France</td>\n",
       "      <td>Female</td>\n",
       "      <td>42.0</td>\n",
       "      <td>2</td>\n",
       "      <td>0.00</td>\n",
       "      <td>1</td>\n",
       "      <td>1</td>\n",
       "      <td>1</td>\n",
       "      <td>101348.88</td>\n",
       "      <td>1</td>\n",
       "      <td>1.0</td>\n",
       "      <td>0.0</td>\n",
       "      <td>0.0</td>\n",
       "      <td>1.0</td>\n",
       "      <td>0.0</td>\n",
       "    </tr>\n",
       "    <tr>\n",
       "      <th>1</th>\n",
       "      <td>15647311</td>\n",
       "      <td>608</td>\n",
       "      <td>Spain</td>\n",
       "      <td>Female</td>\n",
       "      <td>41.0</td>\n",
       "      <td>1</td>\n",
       "      <td>83807.86</td>\n",
       "      <td>1</td>\n",
       "      <td>0</td>\n",
       "      <td>1</td>\n",
       "      <td>112542.58</td>\n",
       "      <td>0</td>\n",
       "      <td>0.0</td>\n",
       "      <td>0.0</td>\n",
       "      <td>1.0</td>\n",
       "      <td>1.0</td>\n",
       "      <td>0.0</td>\n",
       "    </tr>\n",
       "    <tr>\n",
       "      <th>2</th>\n",
       "      <td>15619304</td>\n",
       "      <td>502</td>\n",
       "      <td>France</td>\n",
       "      <td>Female</td>\n",
       "      <td>42.0</td>\n",
       "      <td>8</td>\n",
       "      <td>159660.80</td>\n",
       "      <td>3</td>\n",
       "      <td>1</td>\n",
       "      <td>0</td>\n",
       "      <td>113931.57</td>\n",
       "      <td>1</td>\n",
       "      <td>1.0</td>\n",
       "      <td>0.0</td>\n",
       "      <td>0.0</td>\n",
       "      <td>1.0</td>\n",
       "      <td>0.0</td>\n",
       "    </tr>\n",
       "  </tbody>\n",
       "</table>\n",
       "</div>"
      ],
      "text/plain": [
       "   CustomerId  CredRate Geography  Gender   Age  Tenure    Balance  \\\n",
       "0    15634602       619    France  Female  42.0       2       0.00   \n",
       "1    15647311       608     Spain  Female  41.0       1   83807.86   \n",
       "2    15619304       502    France  Female  42.0       8  159660.80   \n",
       "\n",
       "   ProdNumber  HasCrCard  ActMem  EstimatedSalary  Exited  France  Spain  \\\n",
       "0           1          1       1        101348.88       1     1.0    0.0   \n",
       "1           1          0       1        112542.58       0     0.0    0.0   \n",
       "2           3          1       0        113931.57       1     1.0    0.0   \n",
       "\n",
       "   Germany  Female  Male  \n",
       "0      0.0     1.0   0.0  \n",
       "1      1.0     1.0   0.0  \n",
       "2      0.0     1.0   0.0  "
      ]
     },
     "execution_count": 27,
     "metadata": {},
     "output_type": "execute_result"
    }
   ],
   "source": [
    "df = pd.concat([df, dfgeo_encoded, dfgen_encoded], axis=1)\n",
    "df.head(3)"
   ]
  },
  {
   "cell_type": "code",
   "execution_count": 28,
   "metadata": {},
   "outputs": [],
   "source": [
    "df.drop(['Geography', 'Gender', 'CustomerId'], axis = 1, inplace = True)"
   ]
  },
  {
   "cell_type": "code",
   "execution_count": 29,
   "metadata": {},
   "outputs": [
    {
     "data": {
      "text/html": [
       "<div>\n",
       "<style scoped>\n",
       "    .dataframe tbody tr th:only-of-type {\n",
       "        vertical-align: middle;\n",
       "    }\n",
       "\n",
       "    .dataframe tbody tr th {\n",
       "        vertical-align: top;\n",
       "    }\n",
       "\n",
       "    .dataframe thead th {\n",
       "        text-align: right;\n",
       "    }\n",
       "</style>\n",
       "<table border=\"1\" class=\"dataframe\">\n",
       "  <thead>\n",
       "    <tr style=\"text-align: right;\">\n",
       "      <th></th>\n",
       "      <th>CredRate</th>\n",
       "      <th>Age</th>\n",
       "      <th>Tenure</th>\n",
       "      <th>Balance</th>\n",
       "      <th>ProdNumber</th>\n",
       "      <th>HasCrCard</th>\n",
       "      <th>ActMem</th>\n",
       "      <th>EstimatedSalary</th>\n",
       "      <th>Exited</th>\n",
       "      <th>France</th>\n",
       "      <th>Spain</th>\n",
       "      <th>Germany</th>\n",
       "      <th>Female</th>\n",
       "      <th>Male</th>\n",
       "    </tr>\n",
       "  </thead>\n",
       "  <tbody>\n",
       "    <tr>\n",
       "      <th>0</th>\n",
       "      <td>619</td>\n",
       "      <td>42.0</td>\n",
       "      <td>2</td>\n",
       "      <td>0.00</td>\n",
       "      <td>1</td>\n",
       "      <td>1</td>\n",
       "      <td>1</td>\n",
       "      <td>101348.88</td>\n",
       "      <td>1</td>\n",
       "      <td>1.0</td>\n",
       "      <td>0.0</td>\n",
       "      <td>0.0</td>\n",
       "      <td>1.0</td>\n",
       "      <td>0.0</td>\n",
       "    </tr>\n",
       "    <tr>\n",
       "      <th>1</th>\n",
       "      <td>608</td>\n",
       "      <td>41.0</td>\n",
       "      <td>1</td>\n",
       "      <td>83807.86</td>\n",
       "      <td>1</td>\n",
       "      <td>0</td>\n",
       "      <td>1</td>\n",
       "      <td>112542.58</td>\n",
       "      <td>0</td>\n",
       "      <td>0.0</td>\n",
       "      <td>0.0</td>\n",
       "      <td>1.0</td>\n",
       "      <td>1.0</td>\n",
       "      <td>0.0</td>\n",
       "    </tr>\n",
       "    <tr>\n",
       "      <th>2</th>\n",
       "      <td>502</td>\n",
       "      <td>42.0</td>\n",
       "      <td>8</td>\n",
       "      <td>159660.80</td>\n",
       "      <td>3</td>\n",
       "      <td>1</td>\n",
       "      <td>0</td>\n",
       "      <td>113931.57</td>\n",
       "      <td>1</td>\n",
       "      <td>1.0</td>\n",
       "      <td>0.0</td>\n",
       "      <td>0.0</td>\n",
       "      <td>1.0</td>\n",
       "      <td>0.0</td>\n",
       "    </tr>\n",
       "  </tbody>\n",
       "</table>\n",
       "</div>"
      ],
      "text/plain": [
       "   CredRate   Age  Tenure    Balance  ProdNumber  HasCrCard  ActMem  \\\n",
       "0       619  42.0       2       0.00           1          1       1   \n",
       "1       608  41.0       1   83807.86           1          0       1   \n",
       "2       502  42.0       8  159660.80           3          1       0   \n",
       "\n",
       "   EstimatedSalary  Exited  France  Spain  Germany  Female  Male  \n",
       "0        101348.88       1     1.0    0.0      0.0     1.0   0.0  \n",
       "1        112542.58       0     0.0    0.0      1.0     1.0   0.0  \n",
       "2        113931.57       1     1.0    0.0      0.0     1.0   0.0  "
      ]
     },
     "execution_count": 29,
     "metadata": {},
     "output_type": "execute_result"
    }
   ],
   "source": [
    "df.head(3)"
   ]
  },
  {
   "cell_type": "markdown",
   "metadata": {},
   "source": [
    "### Split Train-Test Data Sets"
   ]
  },
  {
   "cell_type": "code",
   "execution_count": 30,
   "metadata": {},
   "outputs": [],
   "source": [
    "target = df.Exited.values\n",
    "features = df.drop(['Exited'], axis = 1)"
   ]
  },
  {
   "cell_type": "code",
   "execution_count": 31,
   "metadata": {},
   "outputs": [
    {
     "data": {
      "text/html": [
       "<div>\n",
       "<style scoped>\n",
       "    .dataframe tbody tr th:only-of-type {\n",
       "        vertical-align: middle;\n",
       "    }\n",
       "\n",
       "    .dataframe tbody tr th {\n",
       "        vertical-align: top;\n",
       "    }\n",
       "\n",
       "    .dataframe thead th {\n",
       "        text-align: right;\n",
       "    }\n",
       "</style>\n",
       "<table border=\"1\" class=\"dataframe\">\n",
       "  <thead>\n",
       "    <tr style=\"text-align: right;\">\n",
       "      <th></th>\n",
       "      <th>CredRate</th>\n",
       "      <th>Age</th>\n",
       "      <th>Tenure</th>\n",
       "      <th>Balance</th>\n",
       "      <th>ProdNumber</th>\n",
       "      <th>HasCrCard</th>\n",
       "      <th>ActMem</th>\n",
       "      <th>EstimatedSalary</th>\n",
       "      <th>France</th>\n",
       "      <th>Spain</th>\n",
       "      <th>Germany</th>\n",
       "      <th>Female</th>\n",
       "      <th>Male</th>\n",
       "    </tr>\n",
       "  </thead>\n",
       "  <tbody>\n",
       "    <tr>\n",
       "      <th>0</th>\n",
       "      <td>619</td>\n",
       "      <td>42.0</td>\n",
       "      <td>2</td>\n",
       "      <td>0.00</td>\n",
       "      <td>1</td>\n",
       "      <td>1</td>\n",
       "      <td>1</td>\n",
       "      <td>101348.88</td>\n",
       "      <td>1.0</td>\n",
       "      <td>0.0</td>\n",
       "      <td>0.0</td>\n",
       "      <td>1.0</td>\n",
       "      <td>0.0</td>\n",
       "    </tr>\n",
       "    <tr>\n",
       "      <th>1</th>\n",
       "      <td>608</td>\n",
       "      <td>41.0</td>\n",
       "      <td>1</td>\n",
       "      <td>83807.86</td>\n",
       "      <td>1</td>\n",
       "      <td>0</td>\n",
       "      <td>1</td>\n",
       "      <td>112542.58</td>\n",
       "      <td>0.0</td>\n",
       "      <td>0.0</td>\n",
       "      <td>1.0</td>\n",
       "      <td>1.0</td>\n",
       "      <td>0.0</td>\n",
       "    </tr>\n",
       "    <tr>\n",
       "      <th>2</th>\n",
       "      <td>502</td>\n",
       "      <td>42.0</td>\n",
       "      <td>8</td>\n",
       "      <td>159660.80</td>\n",
       "      <td>3</td>\n",
       "      <td>1</td>\n",
       "      <td>0</td>\n",
       "      <td>113931.57</td>\n",
       "      <td>1.0</td>\n",
       "      <td>0.0</td>\n",
       "      <td>0.0</td>\n",
       "      <td>1.0</td>\n",
       "      <td>0.0</td>\n",
       "    </tr>\n",
       "  </tbody>\n",
       "</table>\n",
       "</div>"
      ],
      "text/plain": [
       "   CredRate   Age  Tenure    Balance  ProdNumber  HasCrCard  ActMem  \\\n",
       "0       619  42.0       2       0.00           1          1       1   \n",
       "1       608  41.0       1   83807.86           1          0       1   \n",
       "2       502  42.0       8  159660.80           3          1       0   \n",
       "\n",
       "   EstimatedSalary  France  Spain  Germany  Female  Male  \n",
       "0        101348.88     1.0    0.0      0.0     1.0   0.0  \n",
       "1        112542.58     0.0    0.0      1.0     1.0   0.0  \n",
       "2        113931.57     1.0    0.0      0.0     1.0   0.0  "
      ]
     },
     "execution_count": 31,
     "metadata": {},
     "output_type": "execute_result"
    }
   ],
   "source": [
    "features.head(3)"
   ]
  },
  {
   "cell_type": "code",
   "execution_count": 32,
   "metadata": {},
   "outputs": [],
   "source": [
    "X_train, X_test, Y_train, Y_test = train_test_split(features, target, random_state = 15)"
   ]
  },
  {
   "cell_type": "code",
   "execution_count": 33,
   "metadata": {},
   "outputs": [
    {
     "data": {
      "text/plain": [
       "(7500, 13)"
      ]
     },
     "execution_count": 33,
     "metadata": {},
     "output_type": "execute_result"
    }
   ],
   "source": [
    "X_train.shape"
   ]
  },
  {
   "cell_type": "code",
   "execution_count": 34,
   "metadata": {},
   "outputs": [
    {
     "data": {
      "text/plain": [
       "(2500, 13)"
      ]
     },
     "execution_count": 34,
     "metadata": {},
     "output_type": "execute_result"
    }
   ],
   "source": [
    "X_test.shape"
   ]
  },
  {
   "cell_type": "markdown",
   "metadata": {},
   "source": [
    "### Feature Scaling"
   ]
  },
  {
   "cell_type": "code",
   "execution_count": 35,
   "metadata": {},
   "outputs": [],
   "source": [
    "sc = StandardScaler()\n",
    "\n",
    "X_train = sc.fit_transform(X_train)\n",
    "X_test = sc.transform(X_test)"
   ]
  },
  {
   "cell_type": "markdown",
   "metadata": {},
   "source": [
    "## 3) Machine Learning Model Training and Testing"
   ]
  },
  {
   "cell_type": "markdown",
   "metadata": {},
   "source": [
    "### Classification Model Selection"
   ]
  },
  {
   "cell_type": "markdown",
   "metadata": {},
   "source": [
    "#### Model 1: Random Forest Train-Test"
   ]
  },
  {
   "cell_type": "code",
   "execution_count": 36,
   "metadata": {},
   "outputs": [
    {
     "data": {
      "text/plain": [
       "RandomForestClassifier(bootstrap=True, ccp_alpha=0.0, class_weight=None,\n",
       "                       criterion='entropy', max_depth=None, max_features='auto',\n",
       "                       max_leaf_nodes=None, max_samples=None,\n",
       "                       min_impurity_decrease=0.0, min_impurity_split=None,\n",
       "                       min_samples_leaf=1, min_samples_split=2,\n",
       "                       min_weight_fraction_leaf=0.0, n_estimators=15,\n",
       "                       n_jobs=None, oob_score=False, random_state=15, verbose=0,\n",
       "                       warm_start=False)"
      ]
     },
     "execution_count": 36,
     "metadata": {},
     "output_type": "execute_result"
    }
   ],
   "source": [
    "rf_classifier = RandomForestClassifier(n_estimators = 15, criterion = 'entropy', random_state = 15) \n",
    "\n",
    "rf_classifier.fit(X_train, Y_train)"
   ]
  },
  {
   "cell_type": "code",
   "execution_count": 37,
   "metadata": {},
   "outputs": [],
   "source": [
    "rf_Y_pred = rf_classifier.predict(X_test)"
   ]
  },
  {
   "cell_type": "markdown",
   "metadata": {},
   "source": [
    "#### Model 1: Random Forest Evaluation "
   ]
  },
  {
   "cell_type": "markdown",
   "metadata": {},
   "source": [
    "<i>GridSearchCV</i>"
   ]
  },
  {
   "cell_type": "code",
   "execution_count": 38,
   "metadata": {},
   "outputs": [
    {
     "data": {
      "text/plain": [
       "0    7963\n",
       "1    2037\n",
       "Name: Exited, dtype: int64"
      ]
     },
     "execution_count": 38,
     "metadata": {},
     "output_type": "execute_result"
    }
   ],
   "source": [
    "df.Exited.value_counts() "
   ]
  },
  {
   "cell_type": "code",
   "execution_count": 39,
   "metadata": {},
   "outputs": [],
   "source": [
    "x = 7963/2037"
   ]
  },
  {
   "cell_type": "code",
   "execution_count": 40,
   "metadata": {},
   "outputs": [
    {
     "data": {
      "text/plain": [
       "{'bootstrap': True,\n",
       " 'ccp_alpha': 0.0,\n",
       " 'class_weight': None,\n",
       " 'criterion': 'entropy',\n",
       " 'max_depth': None,\n",
       " 'max_features': 'auto',\n",
       " 'max_leaf_nodes': None,\n",
       " 'max_samples': None,\n",
       " 'min_impurity_decrease': 0.0,\n",
       " 'min_impurity_split': None,\n",
       " 'min_samples_leaf': 1,\n",
       " 'min_samples_split': 2,\n",
       " 'min_weight_fraction_leaf': 0.0,\n",
       " 'n_estimators': 15,\n",
       " 'n_jobs': None,\n",
       " 'oob_score': False,\n",
       " 'random_state': 15,\n",
       " 'verbose': 0,\n",
       " 'warm_start': False}"
      ]
     },
     "execution_count": 40,
     "metadata": {},
     "output_type": "execute_result"
    }
   ],
   "source": [
    "rf_classifier.get_params()"
   ]
  },
  {
   "cell_type": "code",
   "execution_count": 41,
   "metadata": {},
   "outputs": [],
   "source": [
    "param_dict1 = {'max_depth' : [8, 9, 10 , 11, 12], \n",
    "               'criterion': ['gini','entropy'],\n",
    "               'n_estimators': [1, 50, 100]}"
   ]
  },
  {
   "cell_type": "code",
   "execution_count": 42,
   "metadata": {},
   "outputs": [],
   "source": [
    "rf_grid_model = GridSearchCV(estimator= rf_classifier, param_grid = param_dict1 , cv=5 , verbose= 1)"
   ]
  },
  {
   "cell_type": "code",
   "execution_count": 43,
   "metadata": {},
   "outputs": [
    {
     "name": "stdout",
     "output_type": "stream",
     "text": [
      "Fitting 5 folds for each of 30 candidates, totalling 150 fits\n"
     ]
    },
    {
     "name": "stderr",
     "output_type": "stream",
     "text": [
      "[Parallel(n_jobs=1)]: Using backend SequentialBackend with 1 concurrent workers.\n",
      "[Parallel(n_jobs=1)]: Done 150 out of 150 | elapsed:   50.4s finished\n"
     ]
    },
    {
     "data": {
      "text/plain": [
       "GridSearchCV(cv=5, error_score=nan,\n",
       "             estimator=RandomForestClassifier(bootstrap=True, ccp_alpha=0.0,\n",
       "                                              class_weight=None,\n",
       "                                              criterion='entropy',\n",
       "                                              max_depth=None,\n",
       "                                              max_features='auto',\n",
       "                                              max_leaf_nodes=None,\n",
       "                                              max_samples=None,\n",
       "                                              min_impurity_decrease=0.0,\n",
       "                                              min_impurity_split=None,\n",
       "                                              min_samples_leaf=1,\n",
       "                                              min_samples_split=2,\n",
       "                                              min_weight_fraction_leaf=0.0,\n",
       "                                              n_estimators=15, n_jobs=None,\n",
       "                                              oob_score=False, random_state=15,\n",
       "                                              verbose=0, warm_start=False),\n",
       "             iid='deprecated', n_jobs=None,\n",
       "             param_grid={'criterion': ['gini', 'entropy'],\n",
       "                         'max_depth': [8, 9, 10, 11, 12],\n",
       "                         'n_estimators': [1, 50, 100]},\n",
       "             pre_dispatch='2*n_jobs', refit=True, return_train_score=False,\n",
       "             scoring=None, verbose=1)"
      ]
     },
     "execution_count": 43,
     "metadata": {},
     "output_type": "execute_result"
    }
   ],
   "source": [
    "rf_grid_model.fit(X_train, Y_train)"
   ]
  },
  {
   "cell_type": "code",
   "execution_count": 44,
   "metadata": {},
   "outputs": [
    {
     "data": {
      "text/plain": [
       "{'criterion': 'gini', 'max_depth': 11, 'n_estimators': 100}"
      ]
     },
     "execution_count": 44,
     "metadata": {},
     "output_type": "execute_result"
    }
   ],
   "source": [
    "rf_grid_model.best_params_"
   ]
  },
  {
   "cell_type": "markdown",
   "metadata": {},
   "source": [
    "<i> Confusion Matrix </i>"
   ]
  },
  {
   "cell_type": "code",
   "execution_count": 45,
   "metadata": {},
   "outputs": [
    {
     "data": {
      "text/plain": [
       "<matplotlib.axes._subplots.AxesSubplot at 0x1b9797f4fc8>"
      ]
     },
     "execution_count": 45,
     "metadata": {},
     "output_type": "execute_result"
    },
    {
     "data": {
      "image/png": "[encoded data removed]",
      "text/plain": [
       "<Figure size 432x288 with 2 Axes>"
      ]
     },
     "metadata": {},
     "output_type": "display_data"
    }
   ],
   "source": [
    "rf_cm = confusion_matrix(Y_test, rf_Y_pred)\n",
    "sns.heatmap(rf_cm, annot= True,fmt='g')"
   ]
  },
  {
   "cell_type": "markdown",
   "metadata": {},
   "source": [
    "<i> Classification Report </i>"
   ]
  },
  {
   "cell_type": "code",
   "execution_count": 46,
   "metadata": {},
   "outputs": [
    {
     "name": "stdout",
     "output_type": "stream",
     "text": [
      "              precision    recall  f1-score   support\n",
      "\n",
      "           0       0.87      0.95      0.91      1995\n",
      "           1       0.72      0.46      0.56       505\n",
      "\n",
      "    accuracy                           0.85      2500\n",
      "   macro avg       0.80      0.71      0.74      2500\n",
      "weighted avg       0.84      0.85      0.84      2500\n",
      "\n"
     ]
    }
   ],
   "source": [
    "print(classification_report(Y_test, rf_Y_pred))"
   ]
  },
  {
   "cell_type": "markdown",
   "metadata": {},
   "source": [
    "<i> Area Under Curve </i>"
   ]
  },
  {
   "cell_type": "code",
   "execution_count": 47,
   "metadata": {},
   "outputs": [
    {
     "name": "stdout",
     "output_type": "stream",
     "text": [
      "0.70689595275317\n"
     ]
    }
   ],
   "source": [
    "rf_area_under_curve = roc_auc_score(Y_test, rf_classifier.predict(X_test))\n",
    "\n",
    "print(rf_area_under_curve)"
   ]
  },
  {
   "cell_type": "code",
   "execution_count": 48,
   "metadata": {},
   "outputs": [
    {
     "data": {
      "image/png": "[encoded data removed]",
      "text/plain": [
       "<Figure size 432x288 with 1 Axes>"
      ]
     },
     "metadata": {},
     "output_type": "display_data"
    }
   ],
   "source": [
    "fpr, tpr, thresholds = roc_curve(Y_test, rf_classifier.predict_proba(X_test)[:,1])\n",
    "\n",
    "plt.plot(fpr, tpr, label='RF Classification (area = %0.2f)' % rf_area_under_curve)\n",
    "plt.plot([0, 1], [0, 1],'r--')\n",
    "plt.xlim([0.0, 1.0])\n",
    "plt.ylim([0.0, 1.05])\n",
    "\n",
    "plt.xlabel('False Positive Rate')\n",
    "plt.ylabel('True Positive Rate')\n",
    "plt.title('AUC')\n",
    "plt.legend(loc=\"lower right\")\n",
    "plt.show()"
   ]
  },
  {
   "cell_type": "markdown",
   "metadata": {},
   "source": [
    "#### Model 1: Random Forest Feature Selection"
   ]
  },
  {
   "cell_type": "markdown",
   "metadata": {},
   "source": [
    "<i> Forward Selection </i>"
   ]
  },
  {
   "cell_type": "code",
   "execution_count": 49,
   "metadata": {},
   "outputs": [],
   "source": [
    "rf_sfs = SFS(rf_classifier, \n",
    "          k_features='best', \n",
    "          forward=True, \n",
    "          scoring='recall', \n",
    "          cv=10)"
   ]
  },
  {
   "cell_type": "code",
   "execution_count": 50,
   "metadata": {},
   "outputs": [],
   "source": [
    "rf_sfs = rf_sfs.fit(X_train, Y_train)"
   ]
  },
  {
   "cell_type": "code",
   "execution_count": 51,
   "metadata": {},
   "outputs": [
    {
     "data": {
      "text/plain": [
       "('0', '1', '3', '4', '6', '9', '12')"
      ]
     },
     "execution_count": 51,
     "metadata": {},
     "output_type": "execute_result"
    }
   ],
   "source": [
    "rf_sfs.k_feature_names_"
   ]
  },
  {
   "cell_type": "code",
   "execution_count": 52,
   "metadata": {},
   "outputs": [
    {
     "name": "stdout",
     "output_type": "stream",
     "text": [
      "\n",
      "Selected feature indices: (0, 1, 3, 4, 6, 9, 12)\n",
      "CV Score: 0.5169722434428317\n"
     ]
    }
   ],
   "source": [
    "print('\\nSelected feature indices:', rf_sfs.k_feature_idx_)\n",
    "print('CV Score:', rf_sfs.k_score_)"
   ]
  },
  {
   "cell_type": "code",
   "execution_count": 53,
   "metadata": {},
   "outputs": [
    {
     "data": {
      "text/html": [
       "<div>\n",
       "<style scoped>\n",
       "    .dataframe tbody tr th:only-of-type {\n",
       "        vertical-align: middle;\n",
       "    }\n",
       "\n",
       "    .dataframe tbody tr th {\n",
       "        vertical-align: top;\n",
       "    }\n",
       "\n",
       "    .dataframe thead th {\n",
       "        text-align: right;\n",
       "    }\n",
       "</style>\n",
       "<table border=\"1\" class=\"dataframe\">\n",
       "  <thead>\n",
       "    <tr style=\"text-align: right;\">\n",
       "      <th></th>\n",
       "      <th>feature_idx</th>\n",
       "      <th>cv_scores</th>\n",
       "      <th>avg_score</th>\n",
       "      <th>feature_names</th>\n",
       "      <th>ci_bound</th>\n",
       "      <th>std_dev</th>\n",
       "      <th>std_err</th>\n",
       "    </tr>\n",
       "  </thead>\n",
       "  <tbody>\n",
       "    <tr>\n",
       "      <th>1</th>\n",
       "      <td>(1,)</td>\n",
       "      <td>[0.20261437908496732, 0.2549019607843137, 0.27...</td>\n",
       "      <td>0.219298</td>\n",
       "      <td>(1,)</td>\n",
       "      <td>0.0267934</td>\n",
       "      <td>0.036075</td>\n",
       "      <td>0.012025</td>\n",
       "    </tr>\n",
       "    <tr>\n",
       "      <th>2</th>\n",
       "      <td>(1, 4)</td>\n",
       "      <td>[0.45751633986928103, 0.477124183006536, 0.464...</td>\n",
       "      <td>0.435994</td>\n",
       "      <td>(1, 4)</td>\n",
       "      <td>0.0279371</td>\n",
       "      <td>0.0376149</td>\n",
       "      <td>0.0125383</td>\n",
       "    </tr>\n",
       "    <tr>\n",
       "      <th>3</th>\n",
       "      <td>(1, 3, 4)</td>\n",
       "      <td>[0.5163398692810458, 0.43790849673202614, 0.41...</td>\n",
       "      <td>0.441902</td>\n",
       "      <td>(1, 3, 4)</td>\n",
       "      <td>0.0222975</td>\n",
       "      <td>0.0300218</td>\n",
       "      <td>0.0100073</td>\n",
       "    </tr>\n",
       "    <tr>\n",
       "      <th>4</th>\n",
       "      <td>(1, 3, 4, 9)</td>\n",
       "      <td>[0.5751633986928104, 0.46405228758169936, 0.45...</td>\n",
       "      <td>0.483007</td>\n",
       "      <td>(1, 3, 4, 9)</td>\n",
       "      <td>0.0315456</td>\n",
       "      <td>0.0424734</td>\n",
       "      <td>0.0141578</td>\n",
       "    </tr>\n",
       "    <tr>\n",
       "      <th>5</th>\n",
       "      <td>(1, 3, 4, 6, 9)</td>\n",
       "      <td>[0.6078431372549019, 0.5098039215686274, 0.470...</td>\n",
       "      <td>0.505229</td>\n",
       "      <td>(1, 3, 4, 6, 9)</td>\n",
       "      <td>0.0299779</td>\n",
       "      <td>0.0403627</td>\n",
       "      <td>0.0134542</td>\n",
       "    </tr>\n",
       "    <tr>\n",
       "      <th>6</th>\n",
       "      <td>(1, 3, 4, 6, 9, 12)</td>\n",
       "      <td>[0.6143790849673203, 0.5098039215686274, 0.457...</td>\n",
       "      <td>0.515644</td>\n",
       "      <td>(1, 3, 4, 6, 9, 12)</td>\n",
       "      <td>0.0309324</td>\n",
       "      <td>0.0416478</td>\n",
       "      <td>0.0138826</td>\n",
       "    </tr>\n",
       "    <tr>\n",
       "      <th>7</th>\n",
       "      <td>(0, 1, 3, 4, 6, 9, 12)</td>\n",
       "      <td>[0.5686274509803921, 0.5294117647058824, 0.470...</td>\n",
       "      <td>0.516972</td>\n",
       "      <td>(0, 1, 3, 4, 6, 9, 12)</td>\n",
       "      <td>0.0241426</td>\n",
       "      <td>0.032506</td>\n",
       "      <td>0.0108353</td>\n",
       "    </tr>\n",
       "    <tr>\n",
       "      <th>8</th>\n",
       "      <td>(0, 1, 3, 4, 5, 6, 9, 12)</td>\n",
       "      <td>[0.5294117647058824, 0.49019607843137253, 0.47...</td>\n",
       "      <td>0.49806</td>\n",
       "      <td>(0, 1, 3, 4, 5, 6, 9, 12)</td>\n",
       "      <td>0.0241695</td>\n",
       "      <td>0.0325421</td>\n",
       "      <td>0.0108474</td>\n",
       "    </tr>\n",
       "    <tr>\n",
       "      <th>9</th>\n",
       "      <td>(0, 1, 3, 4, 5, 6, 9, 11, 12)</td>\n",
       "      <td>[0.5620915032679739, 0.49019607843137253, 0.45...</td>\n",
       "      <td>0.50522</td>\n",
       "      <td>(0, 1, 3, 4, 5, 6, 9, 11, 12)</td>\n",
       "      <td>0.0279359</td>\n",
       "      <td>0.0376133</td>\n",
       "      <td>0.0125378</td>\n",
       "    </tr>\n",
       "    <tr>\n",
       "      <th>10</th>\n",
       "      <td>(0, 1, 3, 4, 5, 6, 9, 10, 11, 12)</td>\n",
       "      <td>[0.5294117647058824, 0.5228758169934641, 0.490...</td>\n",
       "      <td>0.498723</td>\n",
       "      <td>(0, 1, 3, 4, 5, 6, 9, 10, 11, 12)</td>\n",
       "      <td>0.019432</td>\n",
       "      <td>0.0261636</td>\n",
       "      <td>0.0087212</td>\n",
       "    </tr>\n",
       "    <tr>\n",
       "      <th>11</th>\n",
       "      <td>(0, 1, 3, 4, 5, 6, 8, 9, 10, 11, 12)</td>\n",
       "      <td>[0.5294117647058824, 0.5228758169934641, 0.464...</td>\n",
       "      <td>0.486308</td>\n",
       "      <td>(0, 1, 3, 4, 5, 6, 8, 9, 10, 11, 12)</td>\n",
       "      <td>0.0298325</td>\n",
       "      <td>0.040167</td>\n",
       "      <td>0.013389</td>\n",
       "    </tr>\n",
       "    <tr>\n",
       "      <th>12</th>\n",
       "      <td>(0, 1, 2, 3, 4, 5, 6, 8, 9, 10, 11, 12)</td>\n",
       "      <td>[0.5163398692810458, 0.5163398692810458, 0.470...</td>\n",
       "      <td>0.481097</td>\n",
       "      <td>(0, 1, 2, 3, 4, 5, 6, 8, 9, 10, 11, 12)</td>\n",
       "      <td>0.0228422</td>\n",
       "      <td>0.030755</td>\n",
       "      <td>0.0102517</td>\n",
       "    </tr>\n",
       "    <tr>\n",
       "      <th>13</th>\n",
       "      <td>(0, 1, 2, 3, 4, 5, 6, 7, 8, 9, 10, 11, 12)</td>\n",
       "      <td>[0.49673202614379086, 0.49019607843137253, 0.4...</td>\n",
       "      <td>0.477791</td>\n",
       "      <td>(0, 1, 2, 3, 4, 5, 6, 7, 8, 9, 10, 11, 12)</td>\n",
       "      <td>0.0171947</td>\n",
       "      <td>0.0231513</td>\n",
       "      <td>0.00771709</td>\n",
       "    </tr>\n",
       "  </tbody>\n",
       "</table>\n",
       "</div>"
      ],
      "text/plain": [
       "                                   feature_idx  \\\n",
       "1                                         (1,)   \n",
       "2                                       (1, 4)   \n",
       "3                                    (1, 3, 4)   \n",
       "4                                 (1, 3, 4, 9)   \n",
       "5                              (1, 3, 4, 6, 9)   \n",
       "6                          (1, 3, 4, 6, 9, 12)   \n",
       "7                       (0, 1, 3, 4, 6, 9, 12)   \n",
       "8                    (0, 1, 3, 4, 5, 6, 9, 12)   \n",
       "9                (0, 1, 3, 4, 5, 6, 9, 11, 12)   \n",
       "10           (0, 1, 3, 4, 5, 6, 9, 10, 11, 12)   \n",
       "11        (0, 1, 3, 4, 5, 6, 8, 9, 10, 11, 12)   \n",
       "12     (0, 1, 2, 3, 4, 5, 6, 8, 9, 10, 11, 12)   \n",
       "13  (0, 1, 2, 3, 4, 5, 6, 7, 8, 9, 10, 11, 12)   \n",
       "\n",
       "                                            cv_scores avg_score  \\\n",
       "1   [0.20261437908496732, 0.2549019607843137, 0.27...  0.219298   \n",
       "2   [0.45751633986928103, 0.477124183006536, 0.464...  0.435994   \n",
       "3   [0.5163398692810458, 0.43790849673202614, 0.41...  0.441902   \n",
       "4   [0.5751633986928104, 0.46405228758169936, 0.45...  0.483007   \n",
       "5   [0.6078431372549019, 0.5098039215686274, 0.470...  0.505229   \n",
       "6   [0.6143790849673203, 0.5098039215686274, 0.457...  0.515644   \n",
       "7   [0.5686274509803921, 0.5294117647058824, 0.470...  0.516972   \n",
       "8   [0.5294117647058824, 0.49019607843137253, 0.47...   0.49806   \n",
       "9   [0.5620915032679739, 0.49019607843137253, 0.45...   0.50522   \n",
       "10  [0.5294117647058824, 0.5228758169934641, 0.490...  0.498723   \n",
       "11  [0.5294117647058824, 0.5228758169934641, 0.464...  0.486308   \n",
       "12  [0.5163398692810458, 0.5163398692810458, 0.470...  0.481097   \n",
       "13  [0.49673202614379086, 0.49019607843137253, 0.4...  0.477791   \n",
       "\n",
       "                                 feature_names   ci_bound    std_dev  \\\n",
       "1                                         (1,)  0.0267934   0.036075   \n",
       "2                                       (1, 4)  0.0279371  0.0376149   \n",
       "3                                    (1, 3, 4)  0.0222975  0.0300218   \n",
       "4                                 (1, 3, 4, 9)  0.0315456  0.0424734   \n",
       "5                              (1, 3, 4, 6, 9)  0.0299779  0.0403627   \n",
       "6                          (1, 3, 4, 6, 9, 12)  0.0309324  0.0416478   \n",
       "7                       (0, 1, 3, 4, 6, 9, 12)  0.0241426   0.032506   \n",
       "8                    (0, 1, 3, 4, 5, 6, 9, 12)  0.0241695  0.0325421   \n",
       "9                (0, 1, 3, 4, 5, 6, 9, 11, 12)  0.0279359  0.0376133   \n",
       "10           (0, 1, 3, 4, 5, 6, 9, 10, 11, 12)   0.019432  0.0261636   \n",
       "11        (0, 1, 3, 4, 5, 6, 8, 9, 10, 11, 12)  0.0298325   0.040167   \n",
       "12     (0, 1, 2, 3, 4, 5, 6, 8, 9, 10, 11, 12)  0.0228422   0.030755   \n",
       "13  (0, 1, 2, 3, 4, 5, 6, 7, 8, 9, 10, 11, 12)  0.0171947  0.0231513   \n",
       "\n",
       "       std_err  \n",
       "1     0.012025  \n",
       "2    0.0125383  \n",
       "3    0.0100073  \n",
       "4    0.0141578  \n",
       "5    0.0134542  \n",
       "6    0.0138826  \n",
       "7    0.0108353  \n",
       "8    0.0108474  \n",
       "9    0.0125378  \n",
       "10   0.0087212  \n",
       "11    0.013389  \n",
       "12   0.0102517  \n",
       "13  0.00771709  "
      ]
     },
     "execution_count": 53,
     "metadata": {},
     "output_type": "execute_result"
    }
   ],
   "source": [
    "pd.DataFrame.from_dict(rf_sfs.get_metric_dict()).T"
   ]
  },
  {
   "cell_type": "code",
   "execution_count": 54,
   "metadata": {},
   "outputs": [
    {
     "data": {
      "image/png": "[encoded data removed]",
      "text/plain": [
       "<Figure size 432x288 with 1 Axes>"
      ]
     },
     "metadata": {},
     "output_type": "display_data"
    }
   ],
   "source": [
    "fig1 = plot_sfs(rf_sfs.get_metric_dict(), kind='std_dev')\n",
    "\n",
    "plt.ylim([0.1, 0.6])\n",
    "plt.title('Sequential forward Selection for RandomForest Classifier (w. StdDev)')\n",
    "plt.grid()\n",
    "plt.show()"
   ]
  },
  {
   "cell_type": "markdown",
   "metadata": {},
   "source": [
    "#### Model 2: XGBoost Train-Test"
   ]
  },
  {
   "cell_type": "code",
   "execution_count": 55,
   "metadata": {},
   "outputs": [],
   "source": [
    "xgb = xgb.XGBClassifier(random_state = 15)\n",
    "\n",
    "model = xgb.fit(X_train, Y_train)\n",
    "result = model.predict(X_test)"
   ]
  },
  {
   "cell_type": "markdown",
   "metadata": {},
   "source": [
    "#### Model 2: XGBoost Evaluation"
   ]
  },
  {
   "cell_type": "markdown",
   "metadata": {},
   "source": [
    "<i>GridSearchCV</i>"
   ]
  },
  {
   "cell_type": "code",
   "execution_count": 56,
   "metadata": {},
   "outputs": [
    {
     "data": {
      "text/plain": [
       "{'objective': 'binary:logistic',\n",
       " 'base_score': 0.5,\n",
       " 'booster': 'gbtree',\n",
       " 'colsample_bylevel': 1,\n",
       " 'colsample_bynode': 1,\n",
       " 'colsample_bytree': 1,\n",
       " 'gamma': 0,\n",
       " 'gpu_id': -1,\n",
       " 'importance_type': 'gain',\n",
       " 'interaction_constraints': '',\n",
       " 'learning_rate': 0.300000012,\n",
       " 'max_delta_step': 0,\n",
       " 'max_depth': 6,\n",
       " 'min_child_weight': 1,\n",
       " 'missing': nan,\n",
       " 'monotone_constraints': '()',\n",
       " 'n_estimators': 100,\n",
       " 'n_jobs': 0,\n",
       " 'num_parallel_tree': 1,\n",
       " 'random_state': 15,\n",
       " 'reg_alpha': 0,\n",
       " 'reg_lambda': 1,\n",
       " 'scale_pos_weight': 1,\n",
       " 'subsample': 1,\n",
       " 'tree_method': 'exact',\n",
       " 'validate_parameters': 1,\n",
       " 'verbosity': None}"
      ]
     },
     "execution_count": 56,
     "metadata": {},
     "output_type": "execute_result"
    }
   ],
   "source": [
    "xgb.get_params()"
   ]
  },
  {
   "cell_type": "code",
   "execution_count": 57,
   "metadata": {},
   "outputs": [],
   "source": [
    "xgb_param_grid = {\n",
    "    'max_depth': [4, 5, 6, 7, 8],\n",
    "    'learning_rate': [0.9, 1, 1.1],\n",
    "    'reg_lambda': [120, 130, 140],\n",
    "     'scale_pos_weight': [x]\n",
    "}"
   ]
  },
  {
   "cell_type": "code",
   "execution_count": 58,
   "metadata": {},
   "outputs": [
    {
     "name": "stdout",
     "output_type": "stream",
     "text": [
      "{'learning_rate': 1, 'max_depth': 5, 'reg_lambda': 130, 'scale_pos_weight': 3.9091801669121256}\n"
     ]
    }
   ],
   "source": [
    "xgb_optimal_params = GridSearchCV(\n",
    "                    estimator = xgb,  \n",
    "                    param_grid = xgb_param_grid,\n",
    "                    scoring = 'recall',\n",
    "                    verbose = 0, \n",
    "                    cv = 3\n",
    ")\n",
    "\n",
    "xgb_optimal_params.fit(X_train, \n",
    "                   Y_train, \n",
    "                   early_stopping_rounds=10,   \n",
    "                   eval_set=[(X_test, Y_test)], \n",
    "                   verbose=False)\n",
    "\n",
    "print(xgb_optimal_params.best_params_)"
   ]
  },
  {
   "cell_type": "markdown",
   "metadata": {},
   "source": [
    "<i> Confusion Matrix </i>"
   ]
  },
  {
   "cell_type": "code",
   "execution_count": 59,
   "metadata": {},
   "outputs": [
    {
     "data": {
      "text/plain": [
       "<matplotlib.axes._subplots.AxesSubplot at 0x1b977be1a48>"
      ]
     },
     "execution_count": 59,
     "metadata": {},
     "output_type": "execute_result"
    },
    {
     "data": {
      "image/png": "[encoded data removed]",
      "text/plain": [
       "<Figure size 432x288 with 2 Axes>"
      ]
     },
     "metadata": {},
     "output_type": "display_data"
    }
   ],
   "source": [
    "xgb_cm = confusion_matrix(Y_test, result)\n",
    "sns.heatmap(xgb_cm, annot= True,fmt='g')"
   ]
  },
  {
   "cell_type": "markdown",
   "metadata": {},
   "source": [
    "<i> Classification Report </i>"
   ]
  },
  {
   "cell_type": "code",
   "execution_count": 60,
   "metadata": {},
   "outputs": [
    {
     "name": "stdout",
     "output_type": "stream",
     "text": [
      "              precision    recall  f1-score   support\n",
      "\n",
      "           0       0.88      0.95      0.91      1995\n",
      "           1       0.70      0.47      0.56       505\n",
      "\n",
      "    accuracy                           0.85      2500\n",
      "   macro avg       0.79      0.71      0.74      2500\n",
      "weighted avg       0.84      0.85      0.84      2500\n",
      "\n"
     ]
    }
   ],
   "source": [
    "print(classification_report(Y_test, result))"
   ]
  },
  {
   "cell_type": "markdown",
   "metadata": {},
   "source": [
    "<i> Area Under Curve </i>"
   ]
  },
  {
   "cell_type": "code",
   "execution_count": 61,
   "metadata": {},
   "outputs": [
    {
     "name": "stdout",
     "output_type": "stream",
     "text": [
      "0.7108191270254846\n"
     ]
    }
   ],
   "source": [
    "xgb_area_under_curve = roc_auc_score(Y_test, xgb.predict(X_test))\n",
    "\n",
    "print(xgb_area_under_curve)"
   ]
  },
  {
   "cell_type": "code",
   "execution_count": 62,
   "metadata": {},
   "outputs": [
    {
     "data": {
      "image/png": "[encoded data removed]",
      "text/plain": [
       "<Figure size 432x288 with 1 Axes>"
      ]
     },
     "metadata": {},
     "output_type": "display_data"
    }
   ],
   "source": [
    "fpr, tpr, thresholds = roc_curve(Y_test, xgb.predict_proba(X_test)[:,1])\n",
    "\n",
    "plt.plot(fpr, tpr, label='XGB Classification (area = %0.2f)' % xgb_area_under_curve)\n",
    "plt.plot([0, 1], [0, 1],'r--')\n",
    "plt.xlim([0.0, 1.0])\n",
    "plt.ylim([0.0, 1.05])\n",
    "\n",
    "plt.xlabel('False Positive Rate')\n",
    "plt.ylabel('True Positive Rate')\n",
    "plt.title('AUC')\n",
    "plt.legend(loc=\"lower right\")\n",
    "plt.show()"
   ]
  },
  {
   "cell_type": "markdown",
   "metadata": {},
   "source": [
    "#### Model 2: XGBoost Feature Selection"
   ]
  },
  {
   "cell_type": "markdown",
   "metadata": {},
   "source": [
    "<i> Forward Selection </i>"
   ]
  },
  {
   "cell_type": "code",
   "execution_count": 63,
   "metadata": {},
   "outputs": [],
   "source": [
    "xgb_sfs = SFS(xgb, \n",
    "          k_features='best', \n",
    "          forward=True, \n",
    "          scoring='recall',\n",
    "          cv=10)"
   ]
  },
  {
   "cell_type": "code",
   "execution_count": 64,
   "metadata": {},
   "outputs": [],
   "source": [
    "xgb_sfs = xgb_sfs.fit(X_train, Y_train)"
   ]
  },
  {
   "cell_type": "code",
   "execution_count": 65,
   "metadata": {},
   "outputs": [
    {
     "data": {
      "text/plain": [
       "('0', '1', '3', '4', '6', '8', '9', '10', '11')"
      ]
     },
     "execution_count": 65,
     "metadata": {},
     "output_type": "execute_result"
    }
   ],
   "source": [
    "xgb_sfs.k_feature_names_"
   ]
  },
  {
   "cell_type": "code",
   "execution_count": 66,
   "metadata": {},
   "outputs": [
    {
     "name": "stdout",
     "output_type": "stream",
     "text": [
      "\n",
      "Selected feature indices: (0, 1, 3, 4, 6, 8, 9, 10, 11)\n",
      "CV Score: 0.5072022748493337\n"
     ]
    }
   ],
   "source": [
    "print('\\nSelected feature indices:', xgb_sfs.k_feature_idx_)\n",
    "print('CV Score:', xgb_sfs.k_score_)"
   ]
  },
  {
   "cell_type": "code",
   "execution_count": 67,
   "metadata": {},
   "outputs": [
    {
     "data": {
      "text/html": [
       "<div>\n",
       "<style scoped>\n",
       "    .dataframe tbody tr th:only-of-type {\n",
       "        vertical-align: middle;\n",
       "    }\n",
       "\n",
       "    .dataframe tbody tr th {\n",
       "        vertical-align: top;\n",
       "    }\n",
       "\n",
       "    .dataframe thead th {\n",
       "        text-align: right;\n",
       "    }\n",
       "</style>\n",
       "<table border=\"1\" class=\"dataframe\">\n",
       "  <thead>\n",
       "    <tr style=\"text-align: right;\">\n",
       "      <th></th>\n",
       "      <th>feature_idx</th>\n",
       "      <th>cv_scores</th>\n",
       "      <th>avg_score</th>\n",
       "      <th>feature_names</th>\n",
       "      <th>ci_bound</th>\n",
       "      <th>std_dev</th>\n",
       "      <th>std_err</th>\n",
       "    </tr>\n",
       "  </thead>\n",
       "  <tbody>\n",
       "    <tr>\n",
       "      <th>1</th>\n",
       "      <td>(1,)</td>\n",
       "      <td>[0.20261437908496732, 0.24836601307189543, 0.3...</td>\n",
       "      <td>0.210207</td>\n",
       "      <td>(1,)</td>\n",
       "      <td>0.0313333</td>\n",
       "      <td>0.0421877</td>\n",
       "      <td>0.0140626</td>\n",
       "    </tr>\n",
       "    <tr>\n",
       "      <th>2</th>\n",
       "      <td>(1, 4)</td>\n",
       "      <td>[0.45751633986928103, 0.49019607843137253, 0.4...</td>\n",
       "      <td>0.434051</td>\n",
       "      <td>(1, 4)</td>\n",
       "      <td>0.0302861</td>\n",
       "      <td>0.0407776</td>\n",
       "      <td>0.0135925</td>\n",
       "    </tr>\n",
       "    <tr>\n",
       "      <th>3</th>\n",
       "      <td>(1, 4, 8)</td>\n",
       "      <td>[0.49673202614379086, 0.4444444444444444, 0.45...</td>\n",
       "      <td>0.446431</td>\n",
       "      <td>(1, 4, 8)</td>\n",
       "      <td>0.0273746</td>\n",
       "      <td>0.0368575</td>\n",
       "      <td>0.0122858</td>\n",
       "    </tr>\n",
       "    <tr>\n",
       "      <th>4</th>\n",
       "      <td>(1, 4, 8, 9)</td>\n",
       "      <td>[0.5228758169934641, 0.49673202614379086, 0.48...</td>\n",
       "      <td>0.456918</td>\n",
       "      <td>(1, 4, 8, 9)</td>\n",
       "      <td>0.0249118</td>\n",
       "      <td>0.0335417</td>\n",
       "      <td>0.0111806</td>\n",
       "    </tr>\n",
       "    <tr>\n",
       "      <th>5</th>\n",
       "      <td>(1, 4, 6, 8, 9)</td>\n",
       "      <td>[0.5098039215686274, 0.477124183006536, 0.4509...</td>\n",
       "      <td>0.459549</td>\n",
       "      <td>(1, 4, 6, 8, 9)</td>\n",
       "      <td>0.0241637</td>\n",
       "      <td>0.0325343</td>\n",
       "      <td>0.0108448</td>\n",
       "    </tr>\n",
       "    <tr>\n",
       "      <th>6</th>\n",
       "      <td>(1, 3, 4, 6, 8, 9)</td>\n",
       "      <td>[0.5424836601307189, 0.5228758169934641, 0.437...</td>\n",
       "      <td>0.486954</td>\n",
       "      <td>(1, 3, 4, 6, 8, 9)</td>\n",
       "      <td>0.0259382</td>\n",
       "      <td>0.0349235</td>\n",
       "      <td>0.0116412</td>\n",
       "    </tr>\n",
       "    <tr>\n",
       "      <th>7</th>\n",
       "      <td>(1, 3, 4, 6, 8, 9, 11)</td>\n",
       "      <td>[0.5490196078431373, 0.5032679738562091, 0.450...</td>\n",
       "      <td>0.492148</td>\n",
       "      <td>(1, 3, 4, 6, 8, 9, 11)</td>\n",
       "      <td>0.0253876</td>\n",
       "      <td>0.0341823</td>\n",
       "      <td>0.0113941</td>\n",
       "    </tr>\n",
       "    <tr>\n",
       "      <th>8</th>\n",
       "      <td>(0, 1, 3, 4, 6, 8, 9, 11)</td>\n",
       "      <td>[0.5555555555555556, 0.5098039215686274, 0.483...</td>\n",
       "      <td>0.501303</td>\n",
       "      <td>(0, 1, 3, 4, 6, 8, 9, 11)</td>\n",
       "      <td>0.0222738</td>\n",
       "      <td>0.0299898</td>\n",
       "      <td>0.0099966</td>\n",
       "    </tr>\n",
       "    <tr>\n",
       "      <th>9</th>\n",
       "      <td>(0, 1, 3, 4, 6, 8, 9, 10, 11)</td>\n",
       "      <td>[0.5490196078431373, 0.5163398692810458, 0.477...</td>\n",
       "      <td>0.507202</td>\n",
       "      <td>(0, 1, 3, 4, 6, 8, 9, 10, 11)</td>\n",
       "      <td>0.0236141</td>\n",
       "      <td>0.0317943</td>\n",
       "      <td>0.0105981</td>\n",
       "    </tr>\n",
       "    <tr>\n",
       "      <th>10</th>\n",
       "      <td>(0, 1, 3, 4, 6, 8, 9, 10, 11, 12)</td>\n",
       "      <td>[0.5490196078431373, 0.5163398692810458, 0.477...</td>\n",
       "      <td>0.507202</td>\n",
       "      <td>(0, 1, 3, 4, 6, 8, 9, 10, 11, 12)</td>\n",
       "      <td>0.0236141</td>\n",
       "      <td>0.0317943</td>\n",
       "      <td>0.0105981</td>\n",
       "    </tr>\n",
       "    <tr>\n",
       "      <th>11</th>\n",
       "      <td>(0, 1, 3, 4, 5, 6, 8, 9, 10, 11, 12)</td>\n",
       "      <td>[0.5098039215686274, 0.5424836601307189, 0.437...</td>\n",
       "      <td>0.502606</td>\n",
       "      <td>(0, 1, 3, 4, 5, 6, 8, 9, 10, 11, 12)</td>\n",
       "      <td>0.0289625</td>\n",
       "      <td>0.0389956</td>\n",
       "      <td>0.0129985</td>\n",
       "    </tr>\n",
       "    <tr>\n",
       "      <th>12</th>\n",
       "      <td>(0, 1, 2, 3, 4, 5, 6, 8, 9, 10, 11, 12)</td>\n",
       "      <td>[0.5424836601307189, 0.5228758169934641, 0.450...</td>\n",
       "      <td>0.496074</td>\n",
       "      <td>(0, 1, 2, 3, 4, 5, 6, 8, 9, 10, 11, 12)</td>\n",
       "      <td>0.0234484</td>\n",
       "      <td>0.0315712</td>\n",
       "      <td>0.0105237</td>\n",
       "    </tr>\n",
       "    <tr>\n",
       "      <th>13</th>\n",
       "      <td>(0, 1, 2, 3, 4, 5, 6, 7, 8, 9, 10, 11, 12)</td>\n",
       "      <td>[0.5228758169934641, 0.49673202614379086, 0.49...</td>\n",
       "      <td>0.495446</td>\n",
       "      <td>(0, 1, 2, 3, 4, 5, 6, 7, 8, 9, 10, 11, 12)</td>\n",
       "      <td>0.0202175</td>\n",
       "      <td>0.0272212</td>\n",
       "      <td>0.00907373</td>\n",
       "    </tr>\n",
       "  </tbody>\n",
       "</table>\n",
       "</div>"
      ],
      "text/plain": [
       "                                   feature_idx  \\\n",
       "1                                         (1,)   \n",
       "2                                       (1, 4)   \n",
       "3                                    (1, 4, 8)   \n",
       "4                                 (1, 4, 8, 9)   \n",
       "5                              (1, 4, 6, 8, 9)   \n",
       "6                           (1, 3, 4, 6, 8, 9)   \n",
       "7                       (1, 3, 4, 6, 8, 9, 11)   \n",
       "8                    (0, 1, 3, 4, 6, 8, 9, 11)   \n",
       "9                (0, 1, 3, 4, 6, 8, 9, 10, 11)   \n",
       "10           (0, 1, 3, 4, 6, 8, 9, 10, 11, 12)   \n",
       "11        (0, 1, 3, 4, 5, 6, 8, 9, 10, 11, 12)   \n",
       "12     (0, 1, 2, 3, 4, 5, 6, 8, 9, 10, 11, 12)   \n",
       "13  (0, 1, 2, 3, 4, 5, 6, 7, 8, 9, 10, 11, 12)   \n",
       "\n",
       "                                            cv_scores avg_score  \\\n",
       "1   [0.20261437908496732, 0.24836601307189543, 0.3...  0.210207   \n",
       "2   [0.45751633986928103, 0.49019607843137253, 0.4...  0.434051   \n",
       "3   [0.49673202614379086, 0.4444444444444444, 0.45...  0.446431   \n",
       "4   [0.5228758169934641, 0.49673202614379086, 0.48...  0.456918   \n",
       "5   [0.5098039215686274, 0.477124183006536, 0.4509...  0.459549   \n",
       "6   [0.5424836601307189, 0.5228758169934641, 0.437...  0.486954   \n",
       "7   [0.5490196078431373, 0.5032679738562091, 0.450...  0.492148   \n",
       "8   [0.5555555555555556, 0.5098039215686274, 0.483...  0.501303   \n",
       "9   [0.5490196078431373, 0.5163398692810458, 0.477...  0.507202   \n",
       "10  [0.5490196078431373, 0.5163398692810458, 0.477...  0.507202   \n",
       "11  [0.5098039215686274, 0.5424836601307189, 0.437...  0.502606   \n",
       "12  [0.5424836601307189, 0.5228758169934641, 0.450...  0.496074   \n",
       "13  [0.5228758169934641, 0.49673202614379086, 0.49...  0.495446   \n",
       "\n",
       "                                 feature_names   ci_bound    std_dev  \\\n",
       "1                                         (1,)  0.0313333  0.0421877   \n",
       "2                                       (1, 4)  0.0302861  0.0407776   \n",
       "3                                    (1, 4, 8)  0.0273746  0.0368575   \n",
       "4                                 (1, 4, 8, 9)  0.0249118  0.0335417   \n",
       "5                              (1, 4, 6, 8, 9)  0.0241637  0.0325343   \n",
       "6                           (1, 3, 4, 6, 8, 9)  0.0259382  0.0349235   \n",
       "7                       (1, 3, 4, 6, 8, 9, 11)  0.0253876  0.0341823   \n",
       "8                    (0, 1, 3, 4, 6, 8, 9, 11)  0.0222738  0.0299898   \n",
       "9                (0, 1, 3, 4, 6, 8, 9, 10, 11)  0.0236141  0.0317943   \n",
       "10           (0, 1, 3, 4, 6, 8, 9, 10, 11, 12)  0.0236141  0.0317943   \n",
       "11        (0, 1, 3, 4, 5, 6, 8, 9, 10, 11, 12)  0.0289625  0.0389956   \n",
       "12     (0, 1, 2, 3, 4, 5, 6, 8, 9, 10, 11, 12)  0.0234484  0.0315712   \n",
       "13  (0, 1, 2, 3, 4, 5, 6, 7, 8, 9, 10, 11, 12)  0.0202175  0.0272212   \n",
       "\n",
       "       std_err  \n",
       "1    0.0140626  \n",
       "2    0.0135925  \n",
       "3    0.0122858  \n",
       "4    0.0111806  \n",
       "5    0.0108448  \n",
       "6    0.0116412  \n",
       "7    0.0113941  \n",
       "8    0.0099966  \n",
       "9    0.0105981  \n",
       "10   0.0105981  \n",
       "11   0.0129985  \n",
       "12   0.0105237  \n",
       "13  0.00907373  "
      ]
     },
     "execution_count": 67,
     "metadata": {},
     "output_type": "execute_result"
    }
   ],
   "source": [
    "pd.DataFrame.from_dict(xgb_sfs.get_metric_dict()).T"
   ]
  },
  {
   "cell_type": "code",
   "execution_count": 68,
   "metadata": {},
   "outputs": [
    {
     "data": {
      "image/png": "[encoded data removed]",
      "text/plain": [
       "<Figure size 432x288 with 1 Axes>"
      ]
     },
     "metadata": {},
     "output_type": "display_data"
    }
   ],
   "source": [
    "fig2 = plot_sfs(xgb_sfs.get_metric_dict(), kind='std_dev')\n",
    "\n",
    "plt.ylim([0.1, 0.6])\n",
    "plt.title('Sequential forward Selection for XGBoost (w. StdDev)')\n",
    "plt.grid()\n",
    "plt.show()"
   ]
  },
  {
   "cell_type": "markdown",
   "metadata": {},
   "source": [
    "#### Model 3: K-Nearest Neighbours (KNN) Train-Test"
   ]
  },
  {
   "cell_type": "code",
   "execution_count": 69,
   "metadata": {},
   "outputs": [
    {
     "data": {
      "text/plain": [
       "KNeighborsClassifier(algorithm='auto', leaf_size=30, metric='minkowski',\n",
       "                     metric_params=None, n_jobs=None, n_neighbors=7, p=2,\n",
       "                     weights='uniform')"
      ]
     },
     "execution_count": 69,
     "metadata": {},
     "output_type": "execute_result"
    }
   ],
   "source": [
    "knn = KNeighborsClassifier(n_neighbors = 7, p = 2) \n",
    "\n",
    "knn.fit(X_train, Y_train)"
   ]
  },
  {
   "cell_type": "code",
   "execution_count": 70,
   "metadata": {},
   "outputs": [],
   "source": [
    "knn_y_pred = knn.predict(X_test)"
   ]
  },
  {
   "cell_type": "markdown",
   "metadata": {},
   "source": [
    "#### Model 3: K-Nearest Neighbours (KNN) Evaluation"
   ]
  },
  {
   "cell_type": "markdown",
   "metadata": {},
   "source": [
    "<i>GridSearchCV</i>"
   ]
  },
  {
   "cell_type": "code",
   "execution_count": 71,
   "metadata": {},
   "outputs": [
    {
     "data": {
      "text/plain": [
       "{'algorithm': 'auto',\n",
       " 'leaf_size': 30,\n",
       " 'metric': 'minkowski',\n",
       " 'metric_params': None,\n",
       " 'n_jobs': None,\n",
       " 'n_neighbors': 7,\n",
       " 'p': 2,\n",
       " 'weights': 'uniform'}"
      ]
     },
     "execution_count": 71,
     "metadata": {},
     "output_type": "execute_result"
    }
   ],
   "source": [
    "knn.get_params()"
   ]
  },
  {
   "cell_type": "code",
   "execution_count": 72,
   "metadata": {},
   "outputs": [
    {
     "name": "stdout",
     "output_type": "stream",
     "text": [
      "Fitting 3 folds for each of 81 candidates, totalling 243 fits\n"
     ]
    },
    {
     "name": "stderr",
     "output_type": "stream",
     "text": [
      "[Parallel(n_jobs=1)]: Using backend SequentialBackend with 1 concurrent workers.\n",
      "[Parallel(n_jobs=1)]: Done 243 out of 243 | elapsed:  4.1min finished\n"
     ]
    },
    {
     "data": {
      "text/plain": [
       "{'leaf_size': 20, 'n_jobs': 1, 'n_neighbors': 5, 'p': 2}"
      ]
     },
     "execution_count": 72,
     "metadata": {},
     "output_type": "execute_result"
    }
   ],
   "source": [
    "knn_param_grid = {\n",
    "    'leaf_size': [20, 30, 40],\n",
    "    'n_jobs': [1, 2, 3],\n",
    "    'n_neighbors': [5, 7, 10],\n",
    "    'p': [2, 5, 10]\n",
    "    \n",
    "}\n",
    "\n",
    "knn_grid_model = GridSearchCV(estimator= knn, param_grid = knn_param_grid , scoring = 'recall', cv=3 , verbose= 1)\n",
    "\n",
    "knn_grid_model.fit(X_train, Y_train)\n",
    "\n",
    "knn_grid_model.best_params_"
   ]
  },
  {
   "cell_type": "markdown",
   "metadata": {},
   "source": [
    "<i> Confusion Matrix </i>"
   ]
  },
  {
   "cell_type": "code",
   "execution_count": 73,
   "metadata": {},
   "outputs": [
    {
     "data": {
      "text/plain": [
       "<matplotlib.axes._subplots.AxesSubplot at 0x1b908249488>"
      ]
     },
     "execution_count": 73,
     "metadata": {},
     "output_type": "execute_result"
    },
    {
     "data": {
      "image/png": "[encoded data removed]",
      "text/plain": [
       "<Figure size 432x288 with 2 Axes>"
      ]
     },
     "metadata": {},
     "output_type": "display_data"
    }
   ],
   "source": [
    "knn_cm = confusion_matrix(Y_test, knn_y_pred)\n",
    "sns.heatmap(knn_cm, annot=True, fmt='g')"
   ]
  },
  {
   "cell_type": "markdown",
   "metadata": {},
   "source": [
    "<i> Classification Report </i>"
   ]
  },
  {
   "cell_type": "code",
   "execution_count": 74,
   "metadata": {},
   "outputs": [
    {
     "name": "stdout",
     "output_type": "stream",
     "text": [
      "              precision    recall  f1-score   support\n",
      "\n",
      "           0       0.85      0.95      0.90      1995\n",
      "           1       0.65      0.34      0.44       505\n",
      "\n",
      "    accuracy                           0.83      2500\n",
      "   macro avg       0.75      0.65      0.67      2500\n",
      "weighted avg       0.81      0.83      0.81      2500\n",
      "\n"
     ]
    }
   ],
   "source": [
    "print(classification_report(Y_test, knn_y_pred))"
   ]
  },
  {
   "cell_type": "markdown",
   "metadata": {},
   "source": [
    "<i> Area Under Curve </i>"
   ]
  },
  {
   "cell_type": "code",
   "execution_count": 75,
   "metadata": {},
   "outputs": [
    {
     "name": "stdout",
     "output_type": "stream",
     "text": [
      "0.6459986600163776\n"
     ]
    }
   ],
   "source": [
    "knn_area_under_curve = roc_auc_score(Y_test, knn.predict(X_test))\n",
    "\n",
    "print(knn_area_under_curve)"
   ]
  },
  {
   "cell_type": "code",
   "execution_count": 76,
   "metadata": {},
   "outputs": [
    {
     "data": {
      "image/png": "[encoded data removed]",
      "text/plain": [
       "<Figure size 432x288 with 1 Axes>"
      ]
     },
     "metadata": {},
     "output_type": "display_data"
    }
   ],
   "source": [
    "fpr, tpr, thresholds = roc_curve(Y_test, knn.predict_proba(X_test)[:,1])\n",
    "\n",
    "plt.plot(fpr, tpr, label='KNN Classification (area = %0.2f)' % knn_area_under_curve)\n",
    "plt.plot([0, 1], [0, 1],'r--')\n",
    "plt.xlim([0.0, 1.0])\n",
    "plt.ylim([0.0, 1.05])\n",
    "\n",
    "plt.xlabel('False Positive Rate')\n",
    "plt.ylabel('True Positive Rate')\n",
    "plt.title('AUC')\n",
    "plt.legend(loc=\"lower right\")\n",
    "plt.show()"
   ]
  },
  {
   "cell_type": "markdown",
   "metadata": {},
   "source": [
    "#### Model 3: K-Nearest Neighbours (KNN) Feature Selection"
   ]
  },
  {
   "cell_type": "markdown",
   "metadata": {},
   "source": [
    "<i> Forward Selection </i>"
   ]
  },
  {
   "cell_type": "code",
   "execution_count": 77,
   "metadata": {},
   "outputs": [
    {
     "name": "stdout",
     "output_type": "stream",
     "text": [
      "\n",
      "Selected feature indices: (1, 3, 4, 6, 8, 9, 10)\n",
      "CV Score: 0.5026398438163143\n"
     ]
    },
    {
     "data": {
      "image/png": "[encoded data removed]",
      "text/plain": [
       "<Figure size 432x288 with 1 Axes>"
      ]
     },
     "metadata": {},
     "output_type": "display_data"
    }
   ],
   "source": [
    "knn_sfs = SFS(knn, \n",
    "          k_features='best', \n",
    "          forward=True, \n",
    "          scoring='recall',\n",
    "          cv=10)\n",
    "\n",
    "knn_sfs = knn_sfs.fit(X_train, Y_train)\n",
    "knn_sfs.k_feature_names_\n",
    "\n",
    "print('\\nSelected feature indices:', knn_sfs.k_feature_idx_)\n",
    "print('CV Score:', knn_sfs.k_score_)\n",
    "\n",
    "pd.DataFrame.from_dict(knn_sfs.get_metric_dict()).T\n",
    "\n",
    "fig3 = plot_sfs(knn_sfs.get_metric_dict(), kind='std_dev')\n",
    "\n",
    "plt.ylim([0.1, 0.6])\n",
    "plt.title('Sequential forward Selection for KNN (w. StdDev)')\n",
    "plt.grid()\n",
    "plt.show()"
   ]
  },
  {
   "cell_type": "code",
   "execution_count": null,
   "metadata": {},
   "outputs": [],
   "source": []
  }
 ],
 "metadata": {
  "kernelspec": {
   "display_name": "Python 3",
   "language": "python",
   "name": "python3"
  },
  "language_info": {
   "codemirror_mode": {
    "name": "ipython",
    "version": 3
   },
   "file_extension": ".py",
   "mimetype": "text/x-python",
   "name": "python",
   "nbconvert_exporter": "python",
   "pygments_lexer": "ipython3",
   "version": "3.7.6"
  }
 },
 "nbformat": 4,
 "nbformat_minor": 4
}
